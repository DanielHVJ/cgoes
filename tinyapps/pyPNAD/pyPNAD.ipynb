{
 "cells": [
  {
   "cell_type": "code",
   "execution_count": null,
   "metadata": {
    "collapsed": true
   },
   "outputs": [],
   "source": [
    "# Download pyPNAD\n",
    "\n",
    "download = True\n",
    "if download is True:\n",
    "    import urllib.request\n",
    "    urllib.request.urlretrieve(\"https://raw.githubusercontent.com/omercadopopular/cgoes/master/tinyapps/pyPNAD/pyPNAD.py\",\n",
    "                               \"pyPNAD.py\")"
   ]
  },
  {
   "cell_type": "code",
   "execution_count": null,
   "metadata": {
    "collapsed": false
   },
   "outputs": [],
   "source": [
    "# Import pyPNAD, load PNAD Contínua data from raw text file and SAS dictionary\n",
    "\n",
    "from pyPNAD import pyPNAD\n",
    "\n",
    "datafile = r'K:\\Pesquisas\\PNAD\\python\\PNADC_022017.txt'\n",
    "inputfile = r'K:\\Pesquisas\\PNAD\\python\\Input PNADC_4Tri_2015 a 1Tri_2016.txt'\n",
    "\n",
    "df = pyPNAD.load(datafile, inputfile)\n",
    "\n",
    "df"
   ]
  },
  {
   "cell_type": "code",
   "execution_count": null,
   "metadata": {
    "collapsed": false
   },
   "outputs": [],
   "source": [
    "# Return all variables\n",
    "\n",
    "vars = list(df.columns)\n",
    "\n",
    "vars"
   ]
  },
  {
   "cell_type": "code",
   "execution_count": null,
   "metadata": {
    "collapsed": false
   },
   "outputs": [],
   "source": [
    "# Descriptive statistics\n",
    "\n",
    "df.describe().T"
   ]
  },
  {
   "cell_type": "code",
   "execution_count": null,
   "metadata": {
    "collapsed": true
   },
   "outputs": [],
   "source": []
  }
 ],
 "metadata": {
  "kernelspec": {
   "display_name": "Python 3",
   "language": "python",
   "name": "python3"
  },
  "language_info": {
   "codemirror_mode": {
    "name": "ipython",
    "version": 3
   },
   "file_extension": ".py",
   "mimetype": "text/x-python",
   "name": "python",
   "nbconvert_exporter": "python",
   "pygments_lexer": "ipython3",
   "version": "3.6.0"
  }
 },
 "nbformat": 4,
 "nbformat_minor": 2
}
