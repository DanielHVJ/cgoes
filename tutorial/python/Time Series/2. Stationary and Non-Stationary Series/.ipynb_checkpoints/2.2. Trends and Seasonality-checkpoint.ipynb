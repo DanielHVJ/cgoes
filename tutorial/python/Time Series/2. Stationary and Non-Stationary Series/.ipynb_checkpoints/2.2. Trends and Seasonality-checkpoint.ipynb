{
 "cells": [
  {
   "cell_type": "raw",
   "metadata": {},
   "source": [
    "# Time Series Econometrics with Python\n",
    "## Section 2.2.: Trends and Seasonality\n",
    "\n",
    "### Carlos Góes (UnB and Instituto Mercado Popular)"
   ]
  },
  {
   "cell_type": "markdown",
   "metadata": {},
   "source": [
    "# Seasonality\n",
    "\n",
    "Data are stationary when their expected value and variance do not change over time. These exclude, then, data that have seasonal patterns (think of temperatures over the year) and data that have trends (think of GDP). The expected temperature in Los Angeles in July is different than the expected temperature for the same city in December (one should expect December to be colder). Likewise, the expected GDP of the United Kingom 2013 will be different from the expected GDP of the UK in 2113 (one should expect it to be higher in 2113 due to technological advancement and productivity gains).\n",
    "\n",
    "We usually try to work with stationary data before designing a econometric model. If these are not available, we make adjustments and transformations in the data to make inference more reliable and make non-stationary data close to stationarity. We will deal with seasonality and trends later. For now, we will learn about some kinds of stationary and non-stationary data and why do we try to work with stationary data.\n",
    "\n",
    "## Okay, so what does stationary data look like?\n",
    "\n",
    "We will compare two different kinds of randomly generated processes so you can have an idea: white noises and random walks.\n",
    "\n",
    "An example of stationary data is white noise, formally defined as a stochastic (i.e., random) process with zero autocorrelation. $y$ is a white noise process if: \n",
    "\n",
    "\\begin{eqnarray}\n",
    "    y_t &=& e_{t}, \\qquad where \\\\\n",
    "    E[\\epsilon_t] &=& 0, \\qquad\n",
    "    E[\\epsilon_t^2] = \\sigma^2, \\qquad\n",
    "    E[\\epsilon_te_s] = 0_{\\quad t \\not= s}, \\qquad  \n",
    "    E[y_t] = 0 \\nonumber\n",
    "\\end{eqnarray}\n",
    "\n",
    "In a white noise process, besides being randomly generated, the value of $y$ at period $t$ is unrelated to the value of $y$ in period $t-1$ \\footnote{This is exactly what the expression $E[\\epsilon_te_s] = 0_{\\quad t \\not= s}$ means: the expected value of $e$ at period $t$ $(E[\\epsilon_t])$ and the expected value of $e$ at period $s$ $(E[e_s])$ will be zero, regardless of their independent actual values}. All values will orbit a certain mean, which is the fixed expected value around which the distribution of random terms is centered (in this case, zero)."
   ]
  },
  {
   "cell_type": "code",
   "execution_count": 1,
   "metadata": {
    "collapsed": false
   },
   "outputs": [],
   "source": [
    "# Import all packages\n",
    "\n",
    "import numpy as np\n",
    "import pandas as pd\n",
    "import matplotlib.pyplot as plt\n",
    "import statsmodels.formula.api as smf\n",
    "import statsmodels.api as sm\n",
    "import seaborn as sns\n",
    "\n",
    "# Set the file where your data is located\n",
    "\n",
    "file = \"https://raw.githubusercontent.com/omercadopopular/cgoes/master/tutorial/python/Time%20Series/2.%20Stationary%20and%20Non-Stationary%20Series/totalrealearningsbrazil.csv\"\n",
    "\n",
    "# Read the data\n",
    "\n",
    "data = pd.read_csv(file, header=0, sep=';')\n",
    "\n",
    "#Format the date and set the index\n",
    "\n",
    "data['Date'] = pd.to_datetime(data['Date'], dayfirst=True)\n",
    "data = data.set_index('Date')\n",
    "\n",
    "# Format the headers\n",
    "\n",
    "data.columns = map(str.lower, data.columns)\n",
    "\n",
    "# Create a list with all the cities\n",
    "\n",
    "cities = list(data[:1])\n",
    "\n",
    "# Create variables for days, months, and years\n",
    "\n",
    "data['day'] = data.index.strftime('%d')\n",
    "data['month'] = data.index.strftime('%b')\n",
    "data['year'] = data.index.year"
   ]
  }
 ],
 "metadata": {
  "kernelspec": {
   "display_name": "Python 3",
   "language": "python",
   "name": "python3"
  },
  "language_info": {
   "codemirror_mode": {
    "name": "ipython",
    "version": 3
   },
   "file_extension": ".py",
   "mimetype": "text/x-python",
   "name": "python",
   "nbconvert_exporter": "python",
   "pygments_lexer": "ipython3",
   "version": "3.6.0"
  }
 },
 "nbformat": 4,
 "nbformat_minor": 2
}
