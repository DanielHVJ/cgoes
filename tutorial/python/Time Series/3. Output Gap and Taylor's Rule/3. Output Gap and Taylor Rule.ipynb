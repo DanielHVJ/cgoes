{
 "cells": [
  {
   "cell_type": "code",
   "execution_count": null,
   "metadata": {
    "collapsed": true
   },
   "outputs": [],
   "source": [
    "# -*- coding: utf-8 -*-\n",
    "\"\"\"\n",
    "Time Series Econometrics with Python\n",
    "\n",
    "Coded by Carlos Góes (andregoes@gmail.com)\n",
    "Chief-Research Officer, Instituto Mercado Popular\n",
    "\n",
    "Last updated on March 20th, 2017\n",
    "\"\"\"\n",
    "\n",
    "# Import all packages\n",
    "\n",
    "import numpy as np\n",
    "import scipy as sp\n",
    "import pandas as pd\n",
    "import matplotlib.pyplot as plt\n",
    "import statsmodels.formula.api as smf\n",
    "import statsmodels.api as sm"
   ]
  },
  {
   "cell_type": "code",
   "execution_count": null,
   "metadata": {
    "collapsed": true
   },
   "outputs": [],
   "source": [
    "# Set the file where your data is located\n",
    "\n",
    "file = 'https://raw.githubusercontent.com/omercadopopular/cgoes/master/tutorial/Eviews/Output%20gap/outputgap.txt'\n",
    "\n",
    "# Import it as a table\n",
    "\n",
    "data = pd.read_table(file, header=0, index_col='date')"
   ]
  },
  {
   "cell_type": "code",
   "execution_count": null,
   "metadata": {
    "collapsed": true
   },
   "outputs": [],
   "source": [
    "# Linearize GDP\n",
    "data['ly'] = np.log(data['y'])\n",
    "\n",
    "# Create Growth Rates in GDP and changes in Unemployment\n",
    "\n",
    "data['dly'] = ( data['ly'] - data['ly'].shift(periods=-1) ) * 100\n",
    "data['du'] = ( data['u'] - data['u'].shift(periods=-1) ) * 100"
   ]
  },
  {
   "cell_type": "code",
   "execution_count": null,
   "metadata": {
    "collapsed": true
   },
   "outputs": [],
   "source": [
    "# Trace out the basic relationships\n",
    "\n",
    "# Run a regression\n",
    "\n",
    "lm = smf.ols(formula='du ~ dly', data = data).fit()\n",
    "print(lm.summary())\n",
    "\n",
    "# Plot a scatterplot\n",
    "\n",
    "fig = plt.figure()\n",
    "\n",
    "ax = fig.add_subplot(111)\n",
    "fig.subplots_adjust(top=0.85)\n",
    "ax.scatter(data['dly'], data['du'])\n",
    "ax.set_title('Okun Law in Brazil')\n",
    "ax.set_xlabel('GDP Pct Growth')\n",
    "ax.set_ylabel('Pct change in Unemployment Rate')\n",
    "plt.show()"
   ]
  },
  {
   "cell_type": "code",
   "execution_count": null,
   "metadata": {
    "collapsed": true
   },
   "outputs": [],
   "source": [
    "# Calculate, using the HP filter, trend and cycle of GDP\n",
    "\n",
    "cycle, trend = sm.tsa.filters.hpfilter(data.ly[1980:2011], lamb=1600)\n",
    "data['ycycle'],data['ytrend'],data['ygap'] = cycle, trend, cycle / trend * 100\n",
    "    \n",
    "# Plot Cycle and Trend\n",
    "\n",
    "fig = plt.figure()\n",
    "ax = fig.add_subplot(111)\n",
    "data[['ly','ytrend']][1980:2011].plot(ax=ax, fontsize=16);\n",
    "ax.set_title('Trend and Cycle of GDP in Brazil')\n",
    "legend = ax.get_legend()\n",
    "\n",
    "\n",
    "# Calculate, using the HP filter, trend and cycle of unemployment\n",
    "\n",
    "cycle, trend = sm.tsa.filters.hpfilter(data.u[1980:2011], lamb=1600)\n",
    "data['ucycle'],data['utrend'],data['ugap'] = cycle, trend, (cycle - trend) * 100"
   ]
  },
  {
   "cell_type": "code",
   "execution_count": null,
   "metadata": {
    "collapsed": true
   },
   "outputs": [],
   "source": []
  }
 ],
 "metadata": {
  "kernelspec": {
   "display_name": "Python 3",
   "language": "python",
   "name": "python3"
  },
  "language_info": {
   "codemirror_mode": {
    "name": "ipython",
    "version": 3
   },
   "file_extension": ".py",
   "mimetype": "text/x-python",
   "name": "python",
   "nbconvert_exporter": "python",
   "pygments_lexer": "ipython3",
   "version": "3.6.0"
  }
 },
 "nbformat": 4,
 "nbformat_minor": 2
}
