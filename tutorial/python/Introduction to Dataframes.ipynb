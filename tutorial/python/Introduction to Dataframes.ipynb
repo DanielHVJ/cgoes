{
 "cells": [
  {
   "cell_type": "code",
   "execution_count": 26,
   "metadata": {
    "collapsed": false
   },
   "outputs": [],
   "source": [
    "import numpy as np\n",
    "import scipy as sp\n",
    "import pandas as pd\n",
    "\n",
    "periods = 10\n",
    "variables = 2\n",
    "t0 = '1990-01-31'"
   ]
  },
  {
   "cell_type": "code",
   "execution_count": 27,
   "metadata": {
    "collapsed": false
   },
   "outputs": [
    {
     "data": {
      "text/plain": [
       "array([[ 0.93062581, -0.19206491],\n",
       "       [ 0.73771704,  0.49105089],\n",
       "       [ 0.55129806, -0.80647168],\n",
       "       [ 0.09258108, -1.40118556],\n",
       "       [ 1.13015956, -0.51303027],\n",
       "       [-0.48059551, -0.34212086],\n",
       "       [ 0.83116618, -0.99020529],\n",
       "       [-0.14902865,  0.35332096],\n",
       "       [-1.36872361,  1.02678836],\n",
       "       [-0.05685968,  0.36446342]])"
      ]
     },
     "execution_count": 27,
     "metadata": {},
     "output_type": "execute_result"
    }
   ],
   "source": [
    "data = sp.randn(periods,variables)\n",
    "\n",
    "data"
   ]
  },
  {
   "cell_type": "code",
   "execution_count": 28,
   "metadata": {
    "collapsed": false
   },
   "outputs": [
    {
     "data": {
      "text/plain": [
       "DatetimeIndex(['1990-01-31', '1990-02-28', '1990-03-31', '1990-04-30',\n",
       "               '1990-05-31', '1990-06-30', '1990-07-31', '1990-08-31',\n",
       "               '1990-09-30', '1990-10-31'],\n",
       "              dtype='datetime64[ns]', freq='M')"
      ]
     },
     "execution_count": 28,
     "metadata": {},
     "output_type": "execute_result"
    }
   ],
   "source": [
    "dates = pd.date_range(t0, periods=periods, freq='M')\n",
    "\n",
    "dates"
   ]
  },
  {
   "cell_type": "code",
   "execution_count": 29,
   "metadata": {
    "collapsed": false
   },
   "outputs": [
    {
     "name": "stdout",
     "output_type": "stream",
     "text": [
      "               price    weight\n",
      "1990-01-31  0.930626 -0.192065\n",
      "1990-02-28  0.737717  0.491051\n",
      "1990-03-31  0.551298 -0.806472\n",
      "1990-04-30  0.092581 -1.401186\n",
      "1990-05-31  1.130160 -0.513030\n",
      "1990-06-30 -0.480596 -0.342121\n",
      "1990-07-31  0.831166 -0.990205\n",
      "1990-08-31 -0.149029  0.353321\n",
      "1990-09-30 -1.368724  1.026788\n",
      "1990-10-31 -0.056860  0.364463\n"
     ]
    }
   ],
   "source": [
    "df = pd.DataFrame(data, columns=('price', 'weight'), index=dates)\n",
    "\n",
    "print(df)"
   ]
  },
  {
   "cell_type": "code",
   "execution_count": 30,
   "metadata": {
    "collapsed": false
   },
   "outputs": [
    {
     "data": {
      "text/plain": [
       "price     0.221834\n",
       "weight   -0.200945\n",
       "dtype: float64"
      ]
     },
     "execution_count": 30,
     "metadata": {},
     "output_type": "execute_result"
    }
   ],
   "source": [
    "df.mean()"
   ]
  },
  {
   "cell_type": "code",
   "execution_count": 31,
   "metadata": {
    "collapsed": false
   },
   "outputs": [
    {
     "data": {
      "text/plain": [
       "price     0.321940\n",
       "weight   -0.267093\n",
       "dtype: float64"
      ]
     },
     "execution_count": 31,
     "metadata": {},
     "output_type": "execute_result"
    }
   ],
   "source": [
    "df.median()"
   ]
  }
 ],
 "metadata": {
  "kernelspec": {
   "display_name": "Python 3",
   "language": "python",
   "name": "python3"
  },
  "language_info": {
   "codemirror_mode": {
    "name": "ipython",
    "version": 3
   },
   "file_extension": ".py",
   "mimetype": "text/x-python",
   "name": "python",
   "nbconvert_exporter": "python",
   "pygments_lexer": "ipython3",
   "version": "3.6.0"
  }
 },
 "nbformat": 4,
 "nbformat_minor": 2
}
