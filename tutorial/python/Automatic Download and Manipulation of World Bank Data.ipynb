{
 "cells": [
  {
   "cell_type": "code",
   "execution_count": 35,
   "metadata": {
    "collapsed": true
   },
   "outputs": [],
   "source": [
    "\"\"\"\n",
    "Introductory Econometrics with Python\n",
    "\n",
    "Coded by Carlos Góes (andregoes@gmail.com)\n",
    "Chief-Research Officer, Instituto Mercado Popular\n",
    "\n",
    "Last updated on March 20th, 2017\n",
    "\"\"\"\n",
    "\n",
    "import numpy as np\n",
    "import statsmodels.formula.api as smf\n",
    "from pandas_datareader import wb\n",
    "import matplotlib.pyplot as plt\n",
    "import seaborn as sns"
   ]
  },
  {
   "cell_type": "code",
   "execution_count": 36,
   "metadata": {
    "collapsed": false
   },
   "outputs": [
    {
     "name": "stdout",
     "output_type": "stream",
     "text": [
      "Searching for Telephone Use:\n",
      "\n",
      "                      id                                               name\n",
      "5817        IC.TEL.DURS  Delay in obtaining a mainline telephone connec...\n",
      "6001  IT.MLT.3MIN.CD.OP  Price of a 3-minute fixed telephone local call...\n",
      "6002  IT.MLT.3MIN.CD.PK  Price of a 3-minute fixed telephone local call...\n",
      "6003  IT.MLT.3MIN.CD.US  Telephone average cost of call to US (US$ per ...\n",
      "6004  IT.MLT.3MIN.CN.OP  Price of a 3-minute fixed telephone local call...\n",
      "6005  IT.MLT.3MIN.CN.PK  Price of a 3-minute fixed telephone local call...\n",
      "6006    IT.MLT.BCONN.CD  Business telephone connection charge (current ...\n",
      "6007    IT.MLT.BCONN.CN  Business telephone connection charge (current ...\n",
      "6008     IT.MLT.BSUB.CD  Business telephone monthly subscription (curre...\n",
      "6009     IT.MLT.BSUB.CN  Business telephone monthly subscription (curre...\n",
      "6010     IT.MLT.CONN.CD  Residential telephone connection charge (curre...\n",
      "6011     IT.MLT.CONN.CN  Residential telephone connection charge (curre...\n",
      "6012     IT.MLT.FALT.CL   Telephone faults cleared by next working day (%)\n",
      "6013     IT.MLT.FALT.M2               Telephone faults (per 100 mainlines)\n",
      "6014     IT.MLT.INVS.CD   Fixed telephone service investment (current US$)\n",
      "6015     IT.MLT.INVS.CN   Fixed telephone service investment (current LCU)\n",
      "6016        IT.MLT.MAIN                      Fixed telephone subscriptions\n",
      "6017     IT.MLT.MAIN.P2     Fixed telephone subscriptions (per 100 people)\n",
      "6018     IT.MLT.MAIN.P3             Telephone mainlines (per 1,000 people)\n",
      "6019     IT.MLT.REVN.CD  Revenue from fixed telephone service (current ...\n",
      "6020     IT.MLT.REVN.CN  Revenue from fixed telephone service (current ...\n",
      "6021     IT.MLT.RSUB.CD  Residential monthly telephone subscription (cu...\n",
      "6022     IT.MLT.RSUB.CN  Residential monthly telephone subscription (cu...\n",
      "6023      IT.MOB.COV.ZS  Population coverage of mobile cellular telepho...\n",
      "6050     IT.TEL.HOUS.ZS                    Households with a telephone (%)\n",
      "6057        IT.TEL.TOTL        Mobile and fixed-line telephone subscribers\n",
      "6059     IT.TEL.TOTL.P3  Telephone (mainlines and mobile phone) subscri...\n",
      "6060     IT.TEL.UNMT.ZS  Unmet demand (% of waiting list to number main... \n",
      "\n",
      "\n",
      "Searching for GDP per Capita:\n",
      "\n",
      "                       id                                               name\n",
      "685   6.0.GDPpc_constant  GDP per capita, PPP (constant 2011 internation...\n",
      "7574      NY.GDP.PCAP.KD                 GDP per capita (constant 2010 US$)\n",
      "7576      NY.GDP.PCAP.KN                      GDP per capita (constant LCU)\n",
      "7578   NY.GDP.PCAP.PP.KD  GDP per capita, PPP (constant 2011 internation... \n",
      "\n",
      "\n"
     ]
    }
   ],
   "source": [
    "## Search for Keywords from the World Bank Database\n",
    "\n",
    "print('Searching for Telephone Use:\\n\\n',\n",
    "      wb.search('telephone*').iloc[:,:2],\n",
    "      '\\n\\n')\n",
    "\n",
    "print('Searching for GDP per Capita:\\n\\n',\n",
    "      wb.search('gdp.*capita*.*const*').iloc[:,:2],\n",
    "      '\\n\\n')"
   ]
  },
  {
   "cell_type": "code",
   "execution_count": 37,
   "metadata": {
    "collapsed": false
   },
   "outputs": [
    {
     "name": "stdout",
     "output_type": "stream",
     "text": [
      "                               gdppercapita   telephones\n",
      "country                  year                           \n",
      "Algeria                  2011   4517.844140  1074.904240\n",
      "Angola                   2011   3905.818053   499.235668\n",
      "Benin                    2011    733.864893   870.108667\n",
      "Botswana                 2011   6488.966235  1501.838740\n",
      "Burkina Faso             2011    595.044214   461.085600\n",
      "Burundi                  2011    215.708935   226.770495\n",
      "Cameroon                 2011   1164.852451   556.933469\n",
      "Central African Republic 2011    452.794425   407.702352\n",
      "Chad                     2011    867.303098   320.755480\n",
      "Comoros                  2011    760.205959   318.376853\n",
      "Congo, Dem. Rep.         2011    322.117465   231.735663\n",
      "Congo, Rep.              2011   2972.787059   941.834382\n",
      "Cote d'Ivoire            2011   1154.754406   873.939197\n",
      "Djibouti                 2011   1400.605596   233.546166\n",
      "Egypt, Arab Rep.         2011   2659.876419  1116.344037\n",
      "Eritrea                  2011    480.376165    55.474878\n",
      "Ethiopia                 2011    370.357902   176.500823\n",
      "Gabon                    2011   9748.861460  1187.866870\n",
      "Gambia, The              2011    520.954807   817.302262\n",
      "Ghana                    2011   1471.971358   859.197392\n",
      "Guinea                   2011    434.864006   441.996171\n",
      "Kenya                    2011   1024.730346   681.675136\n",
      "Lesotho                  2011   1259.068633   579.318119\n",
      "Liberia                  2011    342.853994   492.440728\n",
      "Libya                    2011   4509.255938  1712.656155\n",
      "Madagascar               2011    408.550117   413.015353\n",
      "Malawi                   2011    479.100490   268.193423\n",
      "Mali                     2011    704.948327   689.832368\n",
      "Mauritania               2011   1233.117462   956.380840\n",
      "Mauritius                2011   8313.271254  1297.537967\n",
      "Morocco                  2011   2967.769924  1243.146014\n",
      "Mozambique               2011    434.784800   331.949934\n",
      "Namibia                  2011   5292.747792  1032.374299\n",
      "Niger                    2011    345.249726   300.501637\n",
      "Nigeria                  2011   2363.670958   590.178365\n",
      "Rwanda                   2011    582.204015   409.861600\n",
      "Sao Tome and Principe    2011   1180.321797   729.845840\n",
      "Senegal                  2011    983.870686   759.681336\n",
      "Seychelles               2011  11967.362347  1796.581395\n",
      "South Africa             2011   7520.405941  1346.735866\n",
      "Sudan                    2011   1525.673306   744.201745\n",
      "Swaziland                2011   3804.239636   788.898951\n",
      "Tanzania                 2011    740.644345   558.813588\n",
      "Togo                     2011    506.825175   543.450955\n",
      "Tunisia                  2011   4047.892462  1274.657292\n",
      "Uganda                   2011    644.559732   497.311978\n",
      "Zambia                   2011   1491.492289   612.267540\n",
      "Zimbabwe                 2011    739.633123   749.232930\n"
     ]
    }
   ],
   "source": [
    "# Found the codes you want to manpiulate? Select them\n",
    "\n",
    "wbcode = ['NY.GDP.PCAP.KD', 'IT.TEL.TOTL.P3']\n",
    "\n",
    "# Download the data for all countries for one specific year\n",
    "\n",
    "yeard = 2011\n",
    "\n",
    "wbdata = wb.download(indicator=wbcode,\n",
    "                     country='all',\n",
    "                     start=yeard,\n",
    "                     end=yeard).dropna()\n",
    "\n",
    "# Label the columns\n",
    "\n",
    "wbdata.columns = ['gdppercapita', 'telephones'] \n",
    "\n",
    "print(wbdata)"
   ]
  },
  {
   "cell_type": "code",
   "execution_count": 38,
   "metadata": {
    "collapsed": false
   },
   "outputs": [
    {
     "name": "stderr",
     "output_type": "stream",
     "text": [
      "C:\\Users\\Carlos\\Anaconda3\\lib\\site-packages\\seaborn\\linearmodels.py:267: RuntimeWarning: invalid value encountered in log\n",
      "  grid = np.c_[np.ones(len(grid)), np.log(grid)]\n"
     ]
    },
    {
     "data": {
      "image/png": "[encoded data removed]",
      "text/plain": [
       "<matplotlib.figure.Figure at 0x2ac5525bdd8>"
      ]
     },
     "metadata": {},
     "output_type": "display_data"
    }
   ],
   "source": [
    "# Plot a figure, and format it\n",
    "\n",
    "fig = sns.regplot(x=wbdata['gdppercapita'],\n",
    "                  y=wbdata['telephones'],\n",
    "                 logx=True)\n",
    "\n",
    "fig.set(xlabel='GDP per Capita, Constant 2010 USD, PPP',\n",
    "        ylabel='Telephone Lines per 1000 persons',\n",
    "        title='World: Income and Phone Lines')\n",
    "\n",
    "sns.plt.ylim(0,)\n",
    "sns.plt.show()"
   ]
  },
  {
   "cell_type": "code",
   "execution_count": 39,
   "metadata": {
    "collapsed": false
   },
   "outputs": [
    {
     "name": "stdout",
     "output_type": "stream",
     "text": [
      "                            OLS Regression Results                            \n",
      "==============================================================================\n",
      "Dep. Variable:             telephones   R-squared:                       0.696\n",
      "Model:                            OLS   Adj. R-squared:                  0.690\n",
      "Method:                 Least Squares   F-statistic:                     90.55\n",
      "Date:                Wed, 22 Mar 2017   Prob (F-statistic):           1.92e-12\n",
      "Time:                        00:27:08   Log-Likelihood:                -327.69\n",
      "No. Observations:                  48   AIC:                             659.4\n",
      "Df Residuals:                      46   BIC:                             663.1\n",
      "Df Model:                           1                                         \n",
      "Covariance Type:                  HC3                                         \n",
      "========================================================================================\n",
      "                           coef    std err          z      P>|z|      [95.0% Conf. Int.]\n",
      "----------------------------------------------------------------------------------------\n",
      "Intercept            -1605.1591    231.426     -6.936      0.000     -2058.747 -1151.572\n",
      "np.log(gdppercapita)   325.9393     34.252      9.516      0.000       258.807   393.072\n",
      "==============================================================================\n",
      "Omnibus:                        1.783   Durbin-Watson:                   2.015\n",
      "Prob(Omnibus):                  0.410   Jarque-Bera (JB):                0.928\n",
      "Skew:                          -0.219   Prob(JB):                        0.629\n",
      "Kurtosis:                       3.521   Cond. No.                         51.1\n",
      "==============================================================================\n",
      "\n",
      "Warnings:\n",
      "[1] Standard Errors are heteroscedasticity robust (HC3)\n"
     ]
    }
   ],
   "source": [
    "# Run a regression\n",
    "\n",
    "cross_section = smf.ols('telephones ~ np.log(gdppercapita)',\n",
    "                        data=wbdata,).fit(cov_type='HC3')\n",
    "\n",
    "print(cross_section.summary())"
   ]
  }
 ],
 "metadata": {
  "kernelspec": {
   "display_name": "Python 3",
   "language": "python",
   "name": "python3"
  },
  "language_info": {
   "codemirror_mode": {
    "name": "ipython",
    "version": 3
   },
   "file_extension": ".py",
   "mimetype": "text/x-python",
   "name": "python",
   "nbconvert_exporter": "python",
   "pygments_lexer": "ipython3",
   "version": "3.6.0"
  }
 },
 "nbformat": 4,
 "nbformat_minor": 2
}
