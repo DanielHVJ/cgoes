{
 "cells": [
  {
   "cell_type": "markdown",
   "metadata": {},
   "source": [
    "# Introductory Econometrics with Python\n",
    "## Carlos Góes (andregoes@gmail.com)"
   ]
  },
  {
   "cell_type": "markdown",
   "metadata": {},
   "source": [
    "# 0.2. Introduction to Pandas\n",
    "## 0.2.1. What is a data frame?\n",
    "\n",
    "When working with different statistical softwares, you will soon realize that a concept keeps coming up: \"data frames.\" But what are data frames?\n",
    "\n",
    "**Data frames are a way to organize data**. They are essentially matrices where each row denotes one different observation (for instance, an individual) while each column denotes variables (one characteristic for that particular observation).\n",
    "\n",
    "Think of how the Census used to be conducted before computers came around. First, an interviewer went to many different houses and wrote down the characteristics of those who live in such houses. Then, someone had to organize the interview sheets. They did that by creating a table indentifying each individual (in a row) and their respective characteristics (in a column). Finally, statisticians used those data to create summary tables, find trends, and draw correlations. \n",
    "\n",
    "A typical dataframe looks like the figure below.\n",
    "\n",
    "<img src=\"https://github.com/omercadopopular/cgoes/raw/master/IntroEconometricsPython/Figs/dfcs.PNG\" width=\"400\">\n",
    "\n",
    "Note that there is a column, highlighted in grey, which is the index identifier. The number in that column identify different observations (in this case, different students). To its right lay columns which store the characteristics of those individuals.\n",
    "\n",
    "Try first running your finger vertically across the indices, then moving your finger rightwards to see what are the characteristics of that student. With that method, you will be able torealize that student \\#3 is male, majors in Chemistry, and has a 2.6 GPA.\n",
    "\n",
    "The data frame above shows characteristics of different individual in a particular moment in time. But another way to organize data is to observe how the characteristics of the same individual change over time. The figure below shows an example of that. \n",
    "\n",
    "<img src=\"https://github.com/omercadopopular/cgoes/raw/master/IntroEconometricsPython/Figs/dfts.PNG\" width=\"350\">\n",
    "\n",
    "If you run your finger through the indices (which now are not individuals, but years) and stop in 1997, then move your finger rightwards, you will conclude that in 1997 the GDP growth rate was -1.2% and the unemployment rate was 13.4%.\n",
    "\n",
    "**Data frames are a central tool of statistical analysis**. We first organize the data into a data frame, then make adjustments to \"clean\" improprieties in the data (such as wrong or missing numbers), and finally can conduct some formal econometrics. **In applied statistics, knowing how to do these procedures is just as important than knowing how to run regressions**. If your data is garbage, your results will also be garbage, regardless of how fancy your statistical models may be.\n",
    "\n",
    "In this lecture you will learn:\n",
    "\n",
    "* a\n",
    "* b\n",
    "* c"
   ]
  },
  {
   "cell_type": "markdown",
   "metadata": {},
   "source": [
    "## 0.2.2. Pandas Series\n",
    "\n",
    "During this course, we will frequently work with Pandas. Pandas is a Python package providing fast, flexible, and expressive data structures that provides a intuitive way to work with \"relational\". Its basic data structure is a series, which is a one dimensional array (like a list or a numpy array), which has a specific index and some values. Series can store integers, floats, strings or booleans. \n",
    "\n",
    "Below, we use first build a dictionary, then transform it into a pandas series. Using dictionaries can be quite handy, because pandas automatically identifies the labels of our dictionary as a proper index. (You could also create a series from a list and then later input the indices manually)."
   ]
  },
  {
   "cell_type": "code",
   "execution_count": 5,
   "metadata": {
    "collapsed": false
   },
   "outputs": [
    {
     "data": {
      "text/plain": [
       "Alexander Rabbat     08/21346\n",
       "Carlos Goes          06/99209\n",
       "Dani Alaino          07/20345\n",
       "Lya Nikate           09/23567\n",
       "Nicolas Powidayko    10/22290\n",
       "Niz Borroz           11/22035\n",
       "Tom Rundal           98/20145\n",
       "dtype: object"
      ]
     },
     "execution_count": 5,
     "metadata": {},
     "output_type": "execute_result"
    }
   ],
   "source": [
    "import pandas as pd\n",
    "import numpy as np\n",
    "\n",
    "idnumber  = {\n",
    "            'Carlos Goes': '06/99209',\n",
    "            \"Nicolas Powidayko\": '10/22290',\n",
    "            \"Alexander Rabbat\": '08/21346',\n",
    "            \"Dani Alaino\": '07/20345',\n",
    "            \"Lya Nikate\": '09/23567',\n",
    "            \"Niz Borroz\": '11/22035',\n",
    "            \"Tom Rundal\": \"98/20145\"\n",
    "            }\n",
    "\n",
    "# Transform it into a Pandas Series\n",
    "\n",
    "idnumber = pd.Series(idnumber)\n",
    "idnumber"
   ]
  },
  {
   "cell_type": "markdown",
   "metadata": {},
   "source": [
    "You can use .loc to return the values for each index"
   ]
  },
  {
   "cell_type": "code",
   "execution_count": 6,
   "metadata": {
    "collapsed": false
   },
   "outputs": [
    {
     "data": {
      "text/plain": [
       "'06/99209'"
      ]
     },
     "execution_count": 6,
     "metadata": {},
     "output_type": "execute_result"
    }
   ],
   "source": [
    "idnumber.loc['Carlos Goes']"
   ]
  },
  {
   "cell_type": "markdown",
   "metadata": {},
   "source": [
    "Alternatively, you can use .iloc and use a numerical index, just like you would with a list"
   ]
  },
  {
   "cell_type": "code",
   "execution_count": 7,
   "metadata": {
    "collapsed": false
   },
   "outputs": [
    {
     "data": {
      "text/plain": [
       "'06/99209'"
      ]
     },
     "execution_count": 7,
     "metadata": {},
     "output_type": "execute_result"
    }
   ],
   "source": [
    "idnumber.iloc[1]"
   ]
  },
  {
   "cell_type": "markdown",
   "metadata": {},
   "source": [
    "Below, we create two more series. Note that we create the series directly, integrating the dictionary within the brackets."
   ]
  },
  {
   "cell_type": "code",
   "execution_count": 8,
   "metadata": {
    "collapsed": false
   },
   "outputs": [
    {
     "data": {
      "text/plain": [
       "Alexander Rabbat     International Affairs\n",
       "Carlos Goes                      Economics\n",
       "Dani Alaino          International Affairs\n",
       "Lya Nikate           International Affairs\n",
       "Nicolas Powidayko                Economics\n",
       "Niz Borroz           International Affairs\n",
       "Tom Rundal                       Economics\n",
       "dtype: object"
      ]
     },
     "execution_count": 8,
     "metadata": {},
     "output_type": "execute_result"
    }
   ],
   "source": [
    "major = pd.Series({\n",
    "        'Carlos Goes': 'Economics',\n",
    "        \"Nicolas Powidayko\": 'Economics',\n",
    "        \"Alexander Rabbat\": 'International Affairs',\n",
    "        \"Dani Alaino\": 'International Affairs',\n",
    "        \"Lya Nikate\": 'International Affairs',\n",
    "        \"Niz Borroz\": 'International Affairs',\n",
    "        \"Tom Rundal\": \"Economics\"\n",
    "        })\n",
    "\n",
    "major"
   ]
  },
  {
   "cell_type": "code",
   "execution_count": 9,
   "metadata": {
    "collapsed": false
   },
   "outputs": [
    {
     "data": {
      "text/plain": [
       "Alexander Rabbat     2.8\n",
       "Carlos Goes          4.0\n",
       "Dani Alaino          3.4\n",
       "Lya Nikate           3.3\n",
       "Nicolas Powidayko    3.8\n",
       "Niz Borroz           2.0\n",
       "Tom Rundal           3.0\n",
       "dtype: float64"
      ]
     },
     "execution_count": 9,
     "metadata": {},
     "output_type": "execute_result"
    }
   ],
   "source": [
    "gpa = pd.Series({\n",
    "        'Carlos Goes': 4.0,\n",
    "        \"Nicolas Powidayko\": 3.8,\n",
    "        \"Alexander Rabbat\": 2.8,\n",
    "        \"Dani Alaino\": 3.4,\n",
    "        \"Lya Nikate\": 3.3,\n",
    "        \"Niz Borroz\": 2.0,\n",
    "        \"Tom Rundal\": 3.0\n",
    "        })\n",
    "\n",
    "gpa"
   ]
  },
  {
   "cell_type": "markdown",
   "metadata": {},
   "source": [
    "## 0.2.3. Pandas DataFrames\n",
    "\n",
    "Okay. Now we have three series and, as you might have noticed, these series show information of different students: their student ids, GPAs, and majors. This different series seem the kind of data we usually store in a data frame.\n",
    "\n",
    "Fortunately, pandas makes it easy to join them. We can call the .DataFrame property of the pandas package and list the different dictionaries as our data. The end result will be a properly indexed table."
   ]
  },
  {
   "cell_type": "code",
   "execution_count": 10,
   "metadata": {
    "collapsed": false
   },
   "outputs": [
    {
     "data": {
      "text/html": [
       "<div>\n",
       "<table border=\"1\" class=\"dataframe\">\n",
       "  <thead>\n",
       "    <tr style=\"text-align: right;\">\n",
       "      <th></th>\n",
       "      <th>Alexander Rabbat</th>\n",
       "      <th>Carlos Goes</th>\n",
       "      <th>Dani Alaino</th>\n",
       "      <th>Lya Nikate</th>\n",
       "      <th>Nicolas Powidayko</th>\n",
       "      <th>Niz Borroz</th>\n",
       "      <th>Tom Rundal</th>\n",
       "    </tr>\n",
       "  </thead>\n",
       "  <tbody>\n",
       "    <tr>\n",
       "      <th>idnumber</th>\n",
       "      <td>08/21346</td>\n",
       "      <td>06/99209</td>\n",
       "      <td>07/20345</td>\n",
       "      <td>09/23567</td>\n",
       "      <td>10/22290</td>\n",
       "      <td>11/22035</td>\n",
       "      <td>98/20145</td>\n",
       "    </tr>\n",
       "    <tr>\n",
       "      <th>major</th>\n",
       "      <td>International Affairs</td>\n",
       "      <td>Economics</td>\n",
       "      <td>International Affairs</td>\n",
       "      <td>International Affairs</td>\n",
       "      <td>Economics</td>\n",
       "      <td>International Affairs</td>\n",
       "      <td>Economics</td>\n",
       "    </tr>\n",
       "    <tr>\n",
       "      <th>gpa</th>\n",
       "      <td>2.8</td>\n",
       "      <td>4</td>\n",
       "      <td>3.4</td>\n",
       "      <td>3.3</td>\n",
       "      <td>3.8</td>\n",
       "      <td>2</td>\n",
       "      <td>3</td>\n",
       "    </tr>\n",
       "  </tbody>\n",
       "</table>\n",
       "</div>"
      ],
      "text/plain": [
       "               Alexander Rabbat Carlos Goes            Dani Alaino  \\\n",
       "idnumber               08/21346    06/99209               07/20345   \n",
       "major     International Affairs   Economics  International Affairs   \n",
       "gpa                         2.8           4                    3.4   \n",
       "\n",
       "                     Lya Nikate Nicolas Powidayko             Niz Borroz  \\\n",
       "idnumber               09/23567          10/22290               11/22035   \n",
       "major     International Affairs         Economics  International Affairs   \n",
       "gpa                         3.3               3.8                      2   \n",
       "\n",
       "         Tom Rundal  \n",
       "idnumber   98/20145  \n",
       "major     Economics  \n",
       "gpa               3  "
      ]
     },
     "execution_count": 10,
     "metadata": {},
     "output_type": "execute_result"
    }
   ],
   "source": [
    "data = [idnumber, major, gpa]\n",
    "\n",
    "df = pd.DataFrame(data, index=['idnumber','major', 'gpa'])\n",
    "df"
   ]
  },
  {
   "cell_type": "markdown",
   "metadata": {},
   "source": [
    "Interesting, but is there a better way to loot at these data? What if we wanted to have the names of the individuals as the indices. No problem, we can call the .T function, which lets us transpose the data frame."
   ]
  },
  {
   "cell_type": "code",
   "execution_count": 11,
   "metadata": {
    "collapsed": false
   },
   "outputs": [
    {
     "data": {
      "text/html": [
       "<div>\n",
       "<table border=\"1\" class=\"dataframe\">\n",
       "  <thead>\n",
       "    <tr style=\"text-align: right;\">\n",
       "      <th></th>\n",
       "      <th>idnumber</th>\n",
       "      <th>major</th>\n",
       "      <th>gpa</th>\n",
       "    </tr>\n",
       "  </thead>\n",
       "  <tbody>\n",
       "    <tr>\n",
       "      <th>Alexander Rabbat</th>\n",
       "      <td>08/21346</td>\n",
       "      <td>International Affairs</td>\n",
       "      <td>2.8</td>\n",
       "    </tr>\n",
       "    <tr>\n",
       "      <th>Carlos Goes</th>\n",
       "      <td>06/99209</td>\n",
       "      <td>Economics</td>\n",
       "      <td>4</td>\n",
       "    </tr>\n",
       "    <tr>\n",
       "      <th>Dani Alaino</th>\n",
       "      <td>07/20345</td>\n",
       "      <td>International Affairs</td>\n",
       "      <td>3.4</td>\n",
       "    </tr>\n",
       "    <tr>\n",
       "      <th>Lya Nikate</th>\n",
       "      <td>09/23567</td>\n",
       "      <td>International Affairs</td>\n",
       "      <td>3.3</td>\n",
       "    </tr>\n",
       "    <tr>\n",
       "      <th>Nicolas Powidayko</th>\n",
       "      <td>10/22290</td>\n",
       "      <td>Economics</td>\n",
       "      <td>3.8</td>\n",
       "    </tr>\n",
       "    <tr>\n",
       "      <th>Niz Borroz</th>\n",
       "      <td>11/22035</td>\n",
       "      <td>International Affairs</td>\n",
       "      <td>2</td>\n",
       "    </tr>\n",
       "    <tr>\n",
       "      <th>Tom Rundal</th>\n",
       "      <td>98/20145</td>\n",
       "      <td>Economics</td>\n",
       "      <td>3</td>\n",
       "    </tr>\n",
       "  </tbody>\n",
       "</table>\n",
       "</div>"
      ],
      "text/plain": [
       "                   idnumber                  major  gpa\n",
       "Alexander Rabbat   08/21346  International Affairs  2.8\n",
       "Carlos Goes        06/99209              Economics    4\n",
       "Dani Alaino        07/20345  International Affairs  3.4\n",
       "Lya Nikate         09/23567  International Affairs  3.3\n",
       "Nicolas Powidayko  10/22290              Economics  3.8\n",
       "Niz Borroz         11/22035  International Affairs    2\n",
       "Tom Rundal         98/20145              Economics    3"
      ]
     },
     "execution_count": 11,
     "metadata": {},
     "output_type": "execute_result"
    }
   ],
   "source": [
    "df = df.T\n",
    "df"
   ]
  },
  {
   "cell_type": "code",
   "execution_count": null,
   "metadata": {
    "collapsed": true
   },
   "outputs": [],
   "source": []
  },
  {
   "cell_type": "code",
   "execution_count": 12,
   "metadata": {
    "collapsed": false
   },
   "outputs": [
    {
     "data": {
      "text/plain": [
       "idnumber     06/99209\n",
       "major       Economics\n",
       "gpa                 4\n",
       "Name: Carlos Goes, dtype: object"
      ]
     },
     "execution_count": 12,
     "metadata": {},
     "output_type": "execute_result"
    }
   ],
   "source": [
    "# Now you can use return data in different ways\n",
    "\n",
    "#   Using \".loc\", you call the index\n",
    "\n",
    "df.loc['Carlos Goes']"
   ]
  },
  {
   "cell_type": "code",
   "execution_count": 13,
   "metadata": {
    "collapsed": false
   },
   "outputs": [
    {
     "data": {
      "text/plain": [
       "'06/99209'"
      ]
     },
     "execution_count": 13,
     "metadata": {},
     "output_type": "execute_result"
    }
   ],
   "source": [
    "# And can also ask for a specific series for one index\n",
    "\n",
    "df.loc['Carlos Goes', 'idnumber']"
   ]
  },
  {
   "cell_type": "code",
   "execution_count": 14,
   "metadata": {
    "collapsed": false
   },
   "outputs": [
    {
     "data": {
      "text/plain": [
       "'06/99209'"
      ]
     },
     "execution_count": 14,
     "metadata": {},
     "output_type": "execute_result"
    }
   ],
   "source": [
    "# Using the brackets, first you call the series, then one specific index\n",
    "\n",
    "df['idnumber']['Carlos Goes']"
   ]
  },
  {
   "cell_type": "code",
   "execution_count": 15,
   "metadata": {
    "collapsed": false
   },
   "outputs": [
    {
     "data": {
      "text/plain": [
       "Alexander Rabbat     False\n",
       "Carlos Goes           True\n",
       "Dani Alaino          False\n",
       "Lya Nikate           False\n",
       "Nicolas Powidayko     True\n",
       "Niz Borroz           False\n",
       "Tom Rundal            True\n",
       "Name: major, dtype: bool"
      ]
     },
     "execution_count": 15,
     "metadata": {},
     "output_type": "execute_result"
    }
   ],
   "source": [
    "# Boolean masking\n",
    "\n",
    "(df['major'] == 'Economics')"
   ]
  },
  {
   "cell_type": "code",
   "execution_count": 16,
   "metadata": {
    "collapsed": false
   },
   "outputs": [
    {
     "data": {
      "text/html": [
       "<div>\n",
       "<table border=\"1\" class=\"dataframe\">\n",
       "  <thead>\n",
       "    <tr style=\"text-align: right;\">\n",
       "      <th></th>\n",
       "      <th>idnumber</th>\n",
       "      <th>major</th>\n",
       "      <th>gpa</th>\n",
       "    </tr>\n",
       "  </thead>\n",
       "  <tbody>\n",
       "    <tr>\n",
       "      <th>Carlos Goes</th>\n",
       "      <td>06/99209</td>\n",
       "      <td>Economics</td>\n",
       "      <td>4</td>\n",
       "    </tr>\n",
       "    <tr>\n",
       "      <th>Nicolas Powidayko</th>\n",
       "      <td>10/22290</td>\n",
       "      <td>Economics</td>\n",
       "      <td>3.8</td>\n",
       "    </tr>\n",
       "    <tr>\n",
       "      <th>Tom Rundal</th>\n",
       "      <td>98/20145</td>\n",
       "      <td>Economics</td>\n",
       "      <td>3</td>\n",
       "    </tr>\n",
       "  </tbody>\n",
       "</table>\n",
       "</div>"
      ],
      "text/plain": [
       "                   idnumber      major  gpa\n",
       "Carlos Goes        06/99209  Economics    4\n",
       "Nicolas Powidayko  10/22290  Economics  3.8\n",
       "Tom Rundal         98/20145  Economics    3"
      ]
     },
     "execution_count": 16,
     "metadata": {},
     "output_type": "execute_result"
    }
   ],
   "source": [
    "df[df['major'] == 'Economics']"
   ]
  },
  {
   "cell_type": "code",
   "execution_count": 17,
   "metadata": {
    "collapsed": false
   },
   "outputs": [
    {
     "data": {
      "text/html": [
       "<div>\n",
       "<table border=\"1\" class=\"dataframe\">\n",
       "  <thead>\n",
       "    <tr style=\"text-align: right;\">\n",
       "      <th></th>\n",
       "      <th>idnumber</th>\n",
       "      <th>major</th>\n",
       "      <th>gpa</th>\n",
       "    </tr>\n",
       "  </thead>\n",
       "  <tbody>\n",
       "    <tr>\n",
       "      <th>Alexander Rabbat</th>\n",
       "      <td>08/21346</td>\n",
       "      <td>International Affairs</td>\n",
       "      <td>2.8</td>\n",
       "    </tr>\n",
       "    <tr>\n",
       "      <th>Niz Borroz</th>\n",
       "      <td>11/22035</td>\n",
       "      <td>International Affairs</td>\n",
       "      <td>2</td>\n",
       "    </tr>\n",
       "    <tr>\n",
       "      <th>Tom Rundal</th>\n",
       "      <td>98/20145</td>\n",
       "      <td>Economics</td>\n",
       "      <td>3</td>\n",
       "    </tr>\n",
       "  </tbody>\n",
       "</table>\n",
       "</div>"
      ],
      "text/plain": [
       "                  idnumber                  major  gpa\n",
       "Alexander Rabbat  08/21346  International Affairs  2.8\n",
       "Niz Borroz        11/22035  International Affairs    2\n",
       "Tom Rundal        98/20145              Economics    3"
      ]
     },
     "execution_count": 17,
     "metadata": {},
     "output_type": "execute_result"
    }
   ],
   "source": [
    "df[df['gpa'] <= 3]"
   ]
  },
  {
   "cell_type": "code",
   "execution_count": 18,
   "metadata": {
    "collapsed": false
   },
   "outputs": [
    {
     "data": {
      "text/html": [
       "<div>\n",
       "<table border=\"1\" class=\"dataframe\">\n",
       "  <thead>\n",
       "    <tr style=\"text-align: right;\">\n",
       "      <th></th>\n",
       "      <th>idnumber</th>\n",
       "      <th>major</th>\n",
       "      <th>gpa</th>\n",
       "    </tr>\n",
       "  </thead>\n",
       "  <tbody>\n",
       "    <tr>\n",
       "      <th>Alexander Rabbat</th>\n",
       "      <td>08/21346</td>\n",
       "      <td>International Affairs</td>\n",
       "      <td>5.6</td>\n",
       "    </tr>\n",
       "    <tr>\n",
       "      <th>Carlos Goes</th>\n",
       "      <td>06/99209</td>\n",
       "      <td>Economics</td>\n",
       "      <td>8</td>\n",
       "    </tr>\n",
       "    <tr>\n",
       "      <th>Dani Alaino</th>\n",
       "      <td>07/20345</td>\n",
       "      <td>International Affairs</td>\n",
       "      <td>6.8</td>\n",
       "    </tr>\n",
       "    <tr>\n",
       "      <th>Lya Nikate</th>\n",
       "      <td>09/23567</td>\n",
       "      <td>International Affairs</td>\n",
       "      <td>6.6</td>\n",
       "    </tr>\n",
       "    <tr>\n",
       "      <th>Nicolas Powidayko</th>\n",
       "      <td>10/22290</td>\n",
       "      <td>Economics</td>\n",
       "      <td>7.6</td>\n",
       "    </tr>\n",
       "    <tr>\n",
       "      <th>Niz Borroz</th>\n",
       "      <td>11/22035</td>\n",
       "      <td>International Affairs</td>\n",
       "      <td>4</td>\n",
       "    </tr>\n",
       "    <tr>\n",
       "      <th>Tom Rundal</th>\n",
       "      <td>98/20145</td>\n",
       "      <td>Economics</td>\n",
       "      <td>6</td>\n",
       "    </tr>\n",
       "  </tbody>\n",
       "</table>\n",
       "</div>"
      ],
      "text/plain": [
       "                   idnumber                  major  gpa\n",
       "Alexander Rabbat   08/21346  International Affairs  5.6\n",
       "Carlos Goes        06/99209              Economics    8\n",
       "Dani Alaino        07/20345  International Affairs  6.8\n",
       "Lya Nikate         09/23567  International Affairs  6.6\n",
       "Nicolas Powidayko  10/22290              Economics  7.6\n",
       "Niz Borroz         11/22035  International Affairs    4\n",
       "Tom Rundal         98/20145              Economics    6"
      ]
     },
     "execution_count": 18,
     "metadata": {},
     "output_type": "execute_result"
    }
   ],
   "source": [
    "df['gpa'] *= 2\n",
    "df"
   ]
  },
  {
   "cell_type": "code",
   "execution_count": 19,
   "metadata": {
    "collapsed": false
   },
   "outputs": [
    {
     "data": {
      "text/html": [
       "<div>\n",
       "<table border=\"1\" class=\"dataframe\">\n",
       "  <thead>\n",
       "    <tr style=\"text-align: right;\">\n",
       "      <th></th>\n",
       "      <th>idnumber</th>\n",
       "      <th>major</th>\n",
       "      <th>gpa</th>\n",
       "    </tr>\n",
       "  </thead>\n",
       "  <tbody>\n",
       "    <tr>\n",
       "      <th>Alexander Rabbat</th>\n",
       "      <td>08/21346</td>\n",
       "      <td>International Affairs</td>\n",
       "      <td>2.8</td>\n",
       "    </tr>\n",
       "    <tr>\n",
       "      <th>Carlos Goes</th>\n",
       "      <td>06/99209</td>\n",
       "      <td>Economics</td>\n",
       "      <td>4</td>\n",
       "    </tr>\n",
       "    <tr>\n",
       "      <th>Dani Alaino</th>\n",
       "      <td>07/20345</td>\n",
       "      <td>International Affairs</td>\n",
       "      <td>3.4</td>\n",
       "    </tr>\n",
       "    <tr>\n",
       "      <th>Lya Nikate</th>\n",
       "      <td>09/23567</td>\n",
       "      <td>International Affairs</td>\n",
       "      <td>3.3</td>\n",
       "    </tr>\n",
       "    <tr>\n",
       "      <th>Nicolas Powidayko</th>\n",
       "      <td>10/22290</td>\n",
       "      <td>Economics</td>\n",
       "      <td>3.8</td>\n",
       "    </tr>\n",
       "    <tr>\n",
       "      <th>Niz Borroz</th>\n",
       "      <td>11/22035</td>\n",
       "      <td>International Affairs</td>\n",
       "      <td>2</td>\n",
       "    </tr>\n",
       "    <tr>\n",
       "      <th>Tom Rundal</th>\n",
       "      <td>98/20145</td>\n",
       "      <td>Economics</td>\n",
       "      <td>3</td>\n",
       "    </tr>\n",
       "  </tbody>\n",
       "</table>\n",
       "</div>"
      ],
      "text/plain": [
       "                   idnumber                  major  gpa\n",
       "Alexander Rabbat   08/21346  International Affairs  2.8\n",
       "Carlos Goes        06/99209              Economics    4\n",
       "Dani Alaino        07/20345  International Affairs  3.4\n",
       "Lya Nikate         09/23567  International Affairs  3.3\n",
       "Nicolas Powidayko  10/22290              Economics  3.8\n",
       "Niz Borroz         11/22035  International Affairs    2\n",
       "Tom Rundal         98/20145              Economics    3"
      ]
     },
     "execution_count": 19,
     "metadata": {},
     "output_type": "execute_result"
    }
   ],
   "source": [
    "df['gpa'] /= 2\n",
    "df"
   ]
  },
  {
   "cell_type": "code",
   "execution_count": 20,
   "metadata": {
    "collapsed": false
   },
   "outputs": [
    {
     "data": {
      "text/plain": [
       "3.185714285714286"
      ]
     },
     "execution_count": 20,
     "metadata": {},
     "output_type": "execute_result"
    }
   ],
   "source": [
    "np.sum(df['gpa'])/len(df['gpa'])"
   ]
  },
  {
   "cell_type": "code",
   "execution_count": 21,
   "metadata": {
    "collapsed": false
   },
   "outputs": [
    {
     "data": {
      "text/plain": [
       "3.1857142857142859"
      ]
     },
     "execution_count": 21,
     "metadata": {},
     "output_type": "execute_result"
    }
   ],
   "source": [
    "np.mean(df['gpa'])"
   ]
  },
  {
   "cell_type": "code",
   "execution_count": 22,
   "metadata": {
    "collapsed": false,
    "scrolled": true
   },
   "outputs": [
    {
     "name": "stdout",
     "output_type": "stream",
     "text": [
      "100000000 loops, best of 3: 6.92 ns per loop\n",
      "Mean GPA, International Affairs: 2.875\n",
      "Mean GPA, Economics: 3.6\n"
     ]
    }
   ],
   "source": [
    "%timeit 10\n",
    "\n",
    "# Iterable\n",
    "\n",
    "for name in df['major'].unique():\n",
    "    avg = np.mean(df['gpa'][df['major'] == name])\n",
    "    print('Mean GPA, ' + name + ': ' + str(avg))"
   ]
  },
  {
   "cell_type": "code",
   "execution_count": 23,
   "metadata": {
    "collapsed": false
   },
   "outputs": [
    {
     "name": "stdout",
     "output_type": "stream",
     "text": [
      "100000000 loops, best of 3: 6.76 ns per loop\n",
      "Mean GPA, Economics: 3.6\n",
      "Mean GPA, International Affairs: 2.875\n"
     ]
    }
   ],
   "source": [
    "%timeit 10\n",
    "\n",
    "# Using groups by\n",
    "\n",
    "for name, table in df.groupby('major'):\n",
    "    avg = np.mean(table['gpa'])\n",
    "    print('Mean GPA, ' + name + ': ' + str(avg))"
   ]
  },
  {
   "cell_type": "code",
   "execution_count": 27,
   "metadata": {
    "collapsed": false
   },
   "outputs": [
    {
     "data": {
      "text/html": [
       "<div>\n",
       "<table border=\"1\" class=\"dataframe\">\n",
       "  <thead>\n",
       "    <tr style=\"text-align: right;\">\n",
       "      <th></th>\n",
       "      <th>max</th>\n",
       "      <th>min</th>\n",
       "      <th>count</th>\n",
       "      <th>sum</th>\n",
       "      <th>mean</th>\n",
       "    </tr>\n",
       "    <tr>\n",
       "      <th>major</th>\n",
       "      <th></th>\n",
       "      <th></th>\n",
       "      <th></th>\n",
       "      <th></th>\n",
       "      <th></th>\n",
       "    </tr>\n",
       "  </thead>\n",
       "  <tbody>\n",
       "    <tr>\n",
       "      <th>Economics</th>\n",
       "      <td>4.0</td>\n",
       "      <td>3.0</td>\n",
       "      <td>3</td>\n",
       "      <td>10.8</td>\n",
       "      <td>3.600</td>\n",
       "    </tr>\n",
       "    <tr>\n",
       "      <th>International Affairs</th>\n",
       "      <td>3.4</td>\n",
       "      <td>2.0</td>\n",
       "      <td>4</td>\n",
       "      <td>11.5</td>\n",
       "      <td>2.875</td>\n",
       "    </tr>\n",
       "  </tbody>\n",
       "</table>\n",
       "</div>"
      ],
      "text/plain": [
       "                       max  min  count   sum   mean\n",
       "major                                              \n",
       "Economics              4.0  3.0      3  10.8  3.600\n",
       "International Affairs  3.4  2.0      4  11.5  2.875"
      ]
     },
     "execution_count": 27,
     "metadata": {},
     "output_type": "execute_result"
    }
   ],
   "source": [
    "maxmin = (df.groupby('major')['gpa']\n",
    "            .agg({'max': 'max',\n",
    "                  'min': 'min',\n",
    "                  'count': 'count',\n",
    "                  'sum': 'sum'\n",
    "                 }))\n",
    "\n",
    "maxmin['mean'] = maxmin['sum'] / maxmin['count'] \n",
    "\n",
    "maxmin"
   ]
  },
  {
   "cell_type": "code",
   "execution_count": null,
   "metadata": {
    "collapsed": true
   },
   "outputs": [],
   "source": []
  },
  {
   "cell_type": "code",
   "execution_count": null,
   "metadata": {
    "collapsed": true
   },
   "outputs": [],
   "source": []
  },
  {
   "cell_type": "code",
   "execution_count": null,
   "metadata": {
    "collapsed": true
   },
   "outputs": [],
   "source": []
  }
 ],
 "metadata": {
  "kernelspec": {
   "display_name": "Python 3",
   "language": "python",
   "name": "python3"
  },
  "language_info": {
   "codemirror_mode": {
    "name": "ipython",
    "version": 3
   },
   "file_extension": ".py",
   "mimetype": "text/x-python",
   "name": "python",
   "nbconvert_exporter": "python",
   "pygments_lexer": "ipython3",
   "version": "3.6.0"
  }
 },
 "nbformat": 4,
 "nbformat_minor": 2
}
