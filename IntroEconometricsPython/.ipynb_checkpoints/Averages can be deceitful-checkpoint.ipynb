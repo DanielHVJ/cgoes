{
 "cells": [
  {
   "cell_type": "markdown",
   "metadata": {},
   "source": [
    "# Introductory Econometrics with Python\n",
    "## Carlos Góes (andregoes@gmail.com)"
   ]
  },
  {
   "cell_type": "markdown",
   "metadata": {},
   "source": [
    "# 1. Averages can be deceitful\n",
    "## 1.1. Distributions: mean, variance, and standard deviation\n",
    "\n",
    "Averages are everywhere. An average is a single summary statistic we use for a number of observations. More formally, a mean (which is a more technical term we use for averages) is the expected value for the central tendency of a random variable. This means that the most likely value of a given variable is its mean ($\\mu$):\n",
    "\n",
    "\\begin{equation}\n",
    "\\mu_{x} = \\frac{1}{N} \\sum_{i=1}^N x_{i} = \\frac{x_{1} + x_{2} + ... + x_{N}}{N}\n",
    "\\end{equation}\n",
    "\n",
    "As such, averages can be quite useful. For instance, you can compare yourself to your fellow classmates by contrasting your performance to the average grade across students in a classroom. Or we can compare the expected value for the height distribution of the population of South Koreans (i.e., the average height of South Koreans) to the expected value for the height distribution of the population of North Koreans and draw inferences on why the averages are different.\n",
    "\n",
    "However, as useful as averages can be, they can also be quite deceitful. For once, averages say very little about the shape of the its distribution. On average, Shaquille O'Neal (7'1\") and I (5'6\") are quite tall: 6 feet and 3 inches. But, of course, that does not change the fact that I am short.\n",
    "\n",
    "Let's compare two distributions centered around the same mean (0), but with different degrees of variability around such mean. Note that if you look only at their means, you would not find any differences between them. However, when you contrast them in the chart below, you can intuitively see they are not quite the same."
   ]
  },
  {
   "cell_type": "code",
   "execution_count": 4,
   "metadata": {
    "collapsed": false
   },
   "outputs": [
    {
     "data": {
      "image/png": "[encoded data removed]",
      "text/plain": [
       "<matplotlib.figure.Figure at 0x1dc788fc748>"
      ]
     },
     "metadata": {},
     "output_type": "display_data"
    }
   ],
   "source": [
    "import numpy as np\n",
    "import matplotlib.pyplot as plt\n",
    "\n",
    "np.random.seed(1234) # set seed  \n",
    "\n",
    "mu = 0  # this is the average of the distribution\n",
    "sigma = 2 # this is the standard deviation of the distribution\n",
    "draws = 10000 # this is the number of simulated numbers in each sample\n",
    "bins = 50 # this is the number of bins in the histogram\n",
    "\n",
    "# Draw two sets of random numbers of mean mu & std deviation sigma\n",
    "\n",
    "y = np.random.normal(mu,sigma,draws)\n",
    "x = np.random.normal(mu,3*sigma,draws)\n",
    "\n",
    "# Plot each one of them\n",
    "\n",
    "hist1 = plt.figure()\n",
    "\n",
    "plt.hist(y, # the variable your plotting\n",
    "         bins=bins, # the number of bins\n",
    "         normed=True, # normalized such that sum of probabilities = 1\n",
    "         facecolor='green', # color of distribution\n",
    "         alpha=0.75,\n",
    "         label=\"mean=0, st.dev.=2\") # degree of transparency of the plot\n",
    "\n",
    "plt.hist(x, # the variable your plotting\n",
    "         bins=bins, # the number of bins\n",
    "         normed=True, # normalized such that sum of probabilities = 1\n",
    "         facecolor='brown', # color of distribution\n",
    "         alpha=0.75,\n",
    "         label=\"mean=0, st.dev.=6\") # degree of transparency of the plot\n",
    "\n",
    "plt.axvline(mu, color='black') # vertical line at the mean\n",
    "\n",
    "plt.legend(loc=1)\n",
    "plt.xlabel('Value') \n",
    "plt.ylabel('Probability of Each Value')  \n",
    "plt.title(r'$\\mathrm{Histogram\\ of:}\\ \\mu=\\{0\\},\\ \\sigma=\\{2,6\\}$')\n",
    "plt.axis([-20, 20, 0, 0.3])  # set range of axes\n",
    "plt.grid(False)  # add grid\n",
    "plt.show()  # plot chart"
   ]
  },
  {
   "cell_type": "markdown",
   "metadata": {},
   "source": [
    "Although they have the same means, the green distribution is much \"tighter\" than the brown one. Note that about 20\\% of the observations of the green distribution are clustered around its mean, while only 5\\% of the observation of the brown distribution are close to zero.\n",
    "\n",
    "If their means are the same, how can we describe the differences between these two distributions? By another measure, which we call \\textbf{variance}.\n",
    "\n",
    "The variance is the average squared sum of the differences between each observation and the mean of the distribution. The larger this number is, the more spread out a distribution will be:\n",
    "\n",
    "\\begin{equation}\n",
    "    Var(x) = \\sigma^2 =  \\frac{1}{N} \\sum_{i=1}^N (x_{i} - \\mu_{x})^2 = \\frac{(x_{1} - \\mu_x)^2 + ... + (x_{N} - \\mu_x)^2}{N}\n",
    "\\end{equation}\n",
    "\n",
    "Another way of referring to the same ``tightness'' characteristic is to mention the \\textbf{standard deviation} of the distribution. The standard deviation is simply defined as the square root of the its variance: $\\sigma = \\sqrt{\\sigma^2}$.\n",
    "\n",
    "Like the variance, the standard deviation is a measure of dispersion of a distribution. The lower its value, the closer to the mean data points tend to be. The main advantage of the standard deviation is that it is expressed in the same units as the underlying data, so that we can use it as a benchmark to check which share of the distribution we expect to fall around each distance of the mean."
   ]
  },
  {
   "cell_type": "code",
   "execution_count": null,
   "metadata": {
    "collapsed": true
   },
   "outputs": [],
   "source": []
  }
 ],
 "metadata": {
  "kernelspec": {
   "display_name": "Python 3",
   "language": "python",
   "name": "python3"
  },
  "language_info": {
   "codemirror_mode": {
    "name": "ipython",
    "version": 3
   },
   "file_extension": ".py",
   "mimetype": "text/x-python",
   "name": "python",
   "nbconvert_exporter": "python",
   "pygments_lexer": "ipython3",
   "version": "3.6.0"
  }
 },
 "nbformat": 4,
 "nbformat_minor": 2
}
