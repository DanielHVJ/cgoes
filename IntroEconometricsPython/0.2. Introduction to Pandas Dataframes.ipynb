{
 "cells": [
  {
   "cell_type": "code",
   "execution_count": 141,
   "metadata": {
    "collapsed": true
   },
   "outputs": [],
   "source": [
    "import pandas as pd\n",
    "import numpy as np\n",
    "\n",
    "## Series and DataFrames\n",
    "\n",
    "# Create a dictionary (it works with lists, too)\n",
    "\n",
    "idnumber  = {\n",
    "            'Carlos Goes': '06/99209',\n",
    "            \"Nicolas Powidayko\": '10/22290',\n",
    "            \"Alexander Rabbat\": '08/21346',\n",
    "            \"Dani Alaino\": '07/20345',\n",
    "            \"Lya Nikate\": '09/23567',\n",
    "            \"Niz Borroz\": '11/22035',\n",
    "            \"Tom Rundal\": \"98/20145\"\n",
    "            }\n",
    "\n",
    "# Transform it into a Pandas Series\n",
    "\n",
    "idnumber = pd.Series(idnumber)"
   ]
  },
  {
   "cell_type": "code",
   "execution_count": 142,
   "metadata": {
    "collapsed": false
   },
   "outputs": [
    {
     "data": {
      "text/plain": [
       "'06/99209'"
      ]
     },
     "execution_count": 142,
     "metadata": {},
     "output_type": "execute_result"
    }
   ],
   "source": [
    "# You can use iloc and loc to return the values for each numerical or verbose index\n",
    "\n",
    "idnumber.loc['Carlos Goes']"
   ]
  },
  {
   "cell_type": "code",
   "execution_count": 143,
   "metadata": {
    "collapsed": false
   },
   "outputs": [
    {
     "data": {
      "text/plain": [
       "'06/99209'"
      ]
     },
     "execution_count": 143,
     "metadata": {},
     "output_type": "execute_result"
    }
   ],
   "source": [
    "idnumber.iloc[1]"
   ]
  },
  {
   "cell_type": "code",
   "execution_count": 144,
   "metadata": {
    "collapsed": true
   },
   "outputs": [],
   "source": [
    "# You can also create the pandas series directly\n",
    "\n",
    "major = pd.Series({\n",
    "        'Carlos Goes': 'Economics',\n",
    "        \"Nicolas Powidayko\": 'Economics',\n",
    "        \"Alexander Rabbat\": 'International Affairs',\n",
    "        \"Dani Alaino\": 'International Affairs',\n",
    "        \"Lya Nikate\": 'International Affairs',\n",
    "        \"Niz Borroz\": 'International Affairs',\n",
    "        \"Tom Rundal\": \"Economics\"\n",
    "        })\n",
    "\n",
    "gpa = pd.Series({\n",
    "        'Carlos Goes': 4.0,\n",
    "        \"Nicolas Powidayko\": 3.8,\n",
    "        \"Alexander Rabbat\": 2.8,\n",
    "        \"Dani Alaino\": 3.4,\n",
    "        \"Lya Nikate\": 3.3,\n",
    "        \"Niz Borroz\": 2.0,\n",
    "        \"Tom Rundal\": 3.0\n",
    "        })"
   ]
  },
  {
   "cell_type": "code",
   "execution_count": 145,
   "metadata": {
    "collapsed": false
   },
   "outputs": [
    {
     "data": {
      "text/html": [
       "<div>\n",
       "<table border=\"1\" class=\"dataframe\">\n",
       "  <thead>\n",
       "    <tr style=\"text-align: right;\">\n",
       "      <th></th>\n",
       "      <th>Alexander Rabbat</th>\n",
       "      <th>Carlos Goes</th>\n",
       "      <th>Dani Alaino</th>\n",
       "      <th>Lya Nikate</th>\n",
       "      <th>Nicolas Powidayko</th>\n",
       "      <th>Niz Borroz</th>\n",
       "      <th>Tom Rundal</th>\n",
       "    </tr>\n",
       "  </thead>\n",
       "  <tbody>\n",
       "    <tr>\n",
       "      <th>idnumber</th>\n",
       "      <td>08/21346</td>\n",
       "      <td>06/99209</td>\n",
       "      <td>07/20345</td>\n",
       "      <td>09/23567</td>\n",
       "      <td>10/22290</td>\n",
       "      <td>11/22035</td>\n",
       "      <td>98/20145</td>\n",
       "    </tr>\n",
       "    <tr>\n",
       "      <th>major</th>\n",
       "      <td>International Affairs</td>\n",
       "      <td>Economics</td>\n",
       "      <td>International Affairs</td>\n",
       "      <td>International Affairs</td>\n",
       "      <td>Economics</td>\n",
       "      <td>International Affairs</td>\n",
       "      <td>Economics</td>\n",
       "    </tr>\n",
       "    <tr>\n",
       "      <th>gpa</th>\n",
       "      <td>2.8</td>\n",
       "      <td>4</td>\n",
       "      <td>3.4</td>\n",
       "      <td>3.3</td>\n",
       "      <td>3.8</td>\n",
       "      <td>2</td>\n",
       "      <td>3</td>\n",
       "    </tr>\n",
       "  </tbody>\n",
       "</table>\n",
       "</div>"
      ],
      "text/plain": [
       "               Alexander Rabbat Carlos Goes            Dani Alaino  \\\n",
       "idnumber               08/21346    06/99209               07/20345   \n",
       "major     International Affairs   Economics  International Affairs   \n",
       "gpa                         2.8           4                    3.4   \n",
       "\n",
       "                     Lya Nikate Nicolas Powidayko             Niz Borroz  \\\n",
       "idnumber               09/23567          10/22290               11/22035   \n",
       "major     International Affairs         Economics  International Affairs   \n",
       "gpa                         3.3               3.8                      2   \n",
       "\n",
       "         Tom Rundal  \n",
       "idnumber   98/20145  \n",
       "major     Economics  \n",
       "gpa               3  "
      ]
     },
     "execution_count": 145,
     "metadata": {},
     "output_type": "execute_result"
    }
   ],
   "source": [
    "# Now join the Series together into a dataframe\n",
    "    # (which is basically a table with a bunch of columns)\n",
    "\n",
    "df = pd.DataFrame([idnumber, major, gpa], index=['idnumber','major', 'gpa'])\n",
    "df"
   ]
  },
  {
   "cell_type": "code",
   "execution_count": 146,
   "metadata": {
    "collapsed": false
   },
   "outputs": [
    {
     "data": {
      "text/html": [
       "<div>\n",
       "<table border=\"1\" class=\"dataframe\">\n",
       "  <thead>\n",
       "    <tr style=\"text-align: right;\">\n",
       "      <th></th>\n",
       "      <th>idnumber</th>\n",
       "      <th>major</th>\n",
       "      <th>gpa</th>\n",
       "    </tr>\n",
       "  </thead>\n",
       "  <tbody>\n",
       "    <tr>\n",
       "      <th>Alexander Rabbat</th>\n",
       "      <td>08/21346</td>\n",
       "      <td>International Affairs</td>\n",
       "      <td>2.8</td>\n",
       "    </tr>\n",
       "    <tr>\n",
       "      <th>Carlos Goes</th>\n",
       "      <td>06/99209</td>\n",
       "      <td>Economics</td>\n",
       "      <td>4</td>\n",
       "    </tr>\n",
       "    <tr>\n",
       "      <th>Dani Alaino</th>\n",
       "      <td>07/20345</td>\n",
       "      <td>International Affairs</td>\n",
       "      <td>3.4</td>\n",
       "    </tr>\n",
       "    <tr>\n",
       "      <th>Lya Nikate</th>\n",
       "      <td>09/23567</td>\n",
       "      <td>International Affairs</td>\n",
       "      <td>3.3</td>\n",
       "    </tr>\n",
       "    <tr>\n",
       "      <th>Nicolas Powidayko</th>\n",
       "      <td>10/22290</td>\n",
       "      <td>Economics</td>\n",
       "      <td>3.8</td>\n",
       "    </tr>\n",
       "    <tr>\n",
       "      <th>Niz Borroz</th>\n",
       "      <td>11/22035</td>\n",
       "      <td>International Affairs</td>\n",
       "      <td>2</td>\n",
       "    </tr>\n",
       "    <tr>\n",
       "      <th>Tom Rundal</th>\n",
       "      <td>98/20145</td>\n",
       "      <td>Economics</td>\n",
       "      <td>3</td>\n",
       "    </tr>\n",
       "  </tbody>\n",
       "</table>\n",
       "</div>"
      ],
      "text/plain": [
       "                   idnumber                  major  gpa\n",
       "Alexander Rabbat   08/21346  International Affairs  2.8\n",
       "Carlos Goes        06/99209              Economics    4\n",
       "Dani Alaino        07/20345  International Affairs  3.4\n",
       "Lya Nikate         09/23567  International Affairs  3.3\n",
       "Nicolas Powidayko  10/22290              Economics  3.8\n",
       "Niz Borroz         11/22035  International Affairs    2\n",
       "Tom Rundal         98/20145              Economics    3"
      ]
     },
     "execution_count": 146,
     "metadata": {},
     "output_type": "execute_result"
    }
   ],
   "source": [
    "# Interesting, but is there a better way to loot at these data?\n",
    "    # Let's transpose the dataframe\n",
    "\n",
    "df = df.T\n",
    "df"
   ]
  },
  {
   "cell_type": "code",
   "execution_count": 147,
   "metadata": {
    "collapsed": false
   },
   "outputs": [
    {
     "data": {
      "text/plain": [
       "idnumber     06/99209\n",
       "major       Economics\n",
       "gpa                 4\n",
       "Name: Carlos Goes, dtype: object"
      ]
     },
     "execution_count": 147,
     "metadata": {},
     "output_type": "execute_result"
    }
   ],
   "source": [
    "# Now you can use return data in different ways\n",
    "\n",
    "#   Using \".loc\", you call the index\n",
    "\n",
    "df.loc['Carlos Goes']"
   ]
  },
  {
   "cell_type": "code",
   "execution_count": 148,
   "metadata": {
    "collapsed": false
   },
   "outputs": [
    {
     "data": {
      "text/plain": [
       "'06/99209'"
      ]
     },
     "execution_count": 148,
     "metadata": {},
     "output_type": "execute_result"
    }
   ],
   "source": [
    "# And can also ask for a specific series for one index\n",
    "\n",
    "df.loc['Carlos Goes', 'idnumber']"
   ]
  },
  {
   "cell_type": "code",
   "execution_count": 149,
   "metadata": {
    "collapsed": false
   },
   "outputs": [
    {
     "data": {
      "text/plain": [
       "'06/99209'"
      ]
     },
     "execution_count": 149,
     "metadata": {},
     "output_type": "execute_result"
    }
   ],
   "source": [
    "# Using the brackets, first you call the series, then one specific index\n",
    "\n",
    "df['idnumber']['Carlos Goes']"
   ]
  },
  {
   "cell_type": "code",
   "execution_count": 150,
   "metadata": {
    "collapsed": false
   },
   "outputs": [
    {
     "data": {
      "text/plain": [
       "Alexander Rabbat     False\n",
       "Carlos Goes           True\n",
       "Dani Alaino          False\n",
       "Lya Nikate           False\n",
       "Nicolas Powidayko     True\n",
       "Niz Borroz           False\n",
       "Tom Rundal            True\n",
       "Name: major, dtype: bool"
      ]
     },
     "execution_count": 150,
     "metadata": {},
     "output_type": "execute_result"
    }
   ],
   "source": [
    "# Boolean masking\n",
    "\n",
    "(df['major'] == 'Economics')"
   ]
  },
  {
   "cell_type": "code",
   "execution_count": 151,
   "metadata": {
    "collapsed": false
   },
   "outputs": [
    {
     "data": {
      "text/html": [
       "<div>\n",
       "<table border=\"1\" class=\"dataframe\">\n",
       "  <thead>\n",
       "    <tr style=\"text-align: right;\">\n",
       "      <th></th>\n",
       "      <th>idnumber</th>\n",
       "      <th>major</th>\n",
       "      <th>gpa</th>\n",
       "    </tr>\n",
       "  </thead>\n",
       "  <tbody>\n",
       "    <tr>\n",
       "      <th>Carlos Goes</th>\n",
       "      <td>06/99209</td>\n",
       "      <td>Economics</td>\n",
       "      <td>4</td>\n",
       "    </tr>\n",
       "    <tr>\n",
       "      <th>Nicolas Powidayko</th>\n",
       "      <td>10/22290</td>\n",
       "      <td>Economics</td>\n",
       "      <td>3.8</td>\n",
       "    </tr>\n",
       "    <tr>\n",
       "      <th>Tom Rundal</th>\n",
       "      <td>98/20145</td>\n",
       "      <td>Economics</td>\n",
       "      <td>3</td>\n",
       "    </tr>\n",
       "  </tbody>\n",
       "</table>\n",
       "</div>"
      ],
      "text/plain": [
       "                   idnumber      major  gpa\n",
       "Carlos Goes        06/99209  Economics    4\n",
       "Nicolas Powidayko  10/22290  Economics  3.8\n",
       "Tom Rundal         98/20145  Economics    3"
      ]
     },
     "execution_count": 151,
     "metadata": {},
     "output_type": "execute_result"
    }
   ],
   "source": [
    "df[df['major'] == 'Economics']"
   ]
  },
  {
   "cell_type": "code",
   "execution_count": 152,
   "metadata": {
    "collapsed": false
   },
   "outputs": [
    {
     "data": {
      "text/html": [
       "<div>\n",
       "<table border=\"1\" class=\"dataframe\">\n",
       "  <thead>\n",
       "    <tr style=\"text-align: right;\">\n",
       "      <th></th>\n",
       "      <th>idnumber</th>\n",
       "      <th>major</th>\n",
       "      <th>gpa</th>\n",
       "    </tr>\n",
       "  </thead>\n",
       "  <tbody>\n",
       "    <tr>\n",
       "      <th>Alexander Rabbat</th>\n",
       "      <td>08/21346</td>\n",
       "      <td>International Affairs</td>\n",
       "      <td>2.8</td>\n",
       "    </tr>\n",
       "    <tr>\n",
       "      <th>Niz Borroz</th>\n",
       "      <td>11/22035</td>\n",
       "      <td>International Affairs</td>\n",
       "      <td>2</td>\n",
       "    </tr>\n",
       "    <tr>\n",
       "      <th>Tom Rundal</th>\n",
       "      <td>98/20145</td>\n",
       "      <td>Economics</td>\n",
       "      <td>3</td>\n",
       "    </tr>\n",
       "  </tbody>\n",
       "</table>\n",
       "</div>"
      ],
      "text/plain": [
       "                  idnumber                  major  gpa\n",
       "Alexander Rabbat  08/21346  International Affairs  2.8\n",
       "Niz Borroz        11/22035  International Affairs    2\n",
       "Tom Rundal        98/20145              Economics    3"
      ]
     },
     "execution_count": 152,
     "metadata": {},
     "output_type": "execute_result"
    }
   ],
   "source": [
    "df[df['gpa'] <= 3]"
   ]
  },
  {
   "cell_type": "code",
   "execution_count": 153,
   "metadata": {
    "collapsed": false
   },
   "outputs": [
    {
     "data": {
      "text/html": [
       "<div>\n",
       "<table border=\"1\" class=\"dataframe\">\n",
       "  <thead>\n",
       "    <tr style=\"text-align: right;\">\n",
       "      <th></th>\n",
       "      <th>idnumber</th>\n",
       "      <th>major</th>\n",
       "      <th>gpa</th>\n",
       "    </tr>\n",
       "  </thead>\n",
       "  <tbody>\n",
       "    <tr>\n",
       "      <th>Alexander Rabbat</th>\n",
       "      <td>08/21346</td>\n",
       "      <td>International Affairs</td>\n",
       "      <td>5.6</td>\n",
       "    </tr>\n",
       "    <tr>\n",
       "      <th>Carlos Goes</th>\n",
       "      <td>06/99209</td>\n",
       "      <td>Economics</td>\n",
       "      <td>8</td>\n",
       "    </tr>\n",
       "    <tr>\n",
       "      <th>Dani Alaino</th>\n",
       "      <td>07/20345</td>\n",
       "      <td>International Affairs</td>\n",
       "      <td>6.8</td>\n",
       "    </tr>\n",
       "    <tr>\n",
       "      <th>Lya Nikate</th>\n",
       "      <td>09/23567</td>\n",
       "      <td>International Affairs</td>\n",
       "      <td>6.6</td>\n",
       "    </tr>\n",
       "    <tr>\n",
       "      <th>Nicolas Powidayko</th>\n",
       "      <td>10/22290</td>\n",
       "      <td>Economics</td>\n",
       "      <td>7.6</td>\n",
       "    </tr>\n",
       "    <tr>\n",
       "      <th>Niz Borroz</th>\n",
       "      <td>11/22035</td>\n",
       "      <td>International Affairs</td>\n",
       "      <td>4</td>\n",
       "    </tr>\n",
       "    <tr>\n",
       "      <th>Tom Rundal</th>\n",
       "      <td>98/20145</td>\n",
       "      <td>Economics</td>\n",
       "      <td>6</td>\n",
       "    </tr>\n",
       "  </tbody>\n",
       "</table>\n",
       "</div>"
      ],
      "text/plain": [
       "                   idnumber                  major  gpa\n",
       "Alexander Rabbat   08/21346  International Affairs  5.6\n",
       "Carlos Goes        06/99209              Economics    8\n",
       "Dani Alaino        07/20345  International Affairs  6.8\n",
       "Lya Nikate         09/23567  International Affairs  6.6\n",
       "Nicolas Powidayko  10/22290              Economics  7.6\n",
       "Niz Borroz         11/22035  International Affairs    4\n",
       "Tom Rundal         98/20145              Economics    6"
      ]
     },
     "execution_count": 153,
     "metadata": {},
     "output_type": "execute_result"
    }
   ],
   "source": [
    "df['gpa'] *= 2\n",
    "df"
   ]
  },
  {
   "cell_type": "code",
   "execution_count": 154,
   "metadata": {
    "collapsed": true
   },
   "outputs": [
    {
     "data": {
      "text/html": [
       "<div>\n",
       "<table border=\"1\" class=\"dataframe\">\n",
       "  <thead>\n",
       "    <tr style=\"text-align: right;\">\n",
       "      <th></th>\n",
       "      <th>idnumber</th>\n",
       "      <th>major</th>\n",
       "      <th>gpa</th>\n",
       "    </tr>\n",
       "  </thead>\n",
       "  <tbody>\n",
       "    <tr>\n",
       "      <th>Alexander Rabbat</th>\n",
       "      <td>08/21346</td>\n",
       "      <td>International Affairs</td>\n",
       "      <td>2.8</td>\n",
       "    </tr>\n",
       "    <tr>\n",
       "      <th>Carlos Goes</th>\n",
       "      <td>06/99209</td>\n",
       "      <td>Economics</td>\n",
       "      <td>4</td>\n",
       "    </tr>\n",
       "    <tr>\n",
       "      <th>Dani Alaino</th>\n",
       "      <td>07/20345</td>\n",
       "      <td>International Affairs</td>\n",
       "      <td>3.4</td>\n",
       "    </tr>\n",
       "    <tr>\n",
       "      <th>Lya Nikate</th>\n",
       "      <td>09/23567</td>\n",
       "      <td>International Affairs</td>\n",
       "      <td>3.3</td>\n",
       "    </tr>\n",
       "    <tr>\n",
       "      <th>Nicolas Powidayko</th>\n",
       "      <td>10/22290</td>\n",
       "      <td>Economics</td>\n",
       "      <td>3.8</td>\n",
       "    </tr>\n",
       "    <tr>\n",
       "      <th>Niz Borroz</th>\n",
       "      <td>11/22035</td>\n",
       "      <td>International Affairs</td>\n",
       "      <td>2</td>\n",
       "    </tr>\n",
       "    <tr>\n",
       "      <th>Tom Rundal</th>\n",
       "      <td>98/20145</td>\n",
       "      <td>Economics</td>\n",
       "      <td>3</td>\n",
       "    </tr>\n",
       "  </tbody>\n",
       "</table>\n",
       "</div>"
      ],
      "text/plain": [
       "                   idnumber                  major  gpa\n",
       "Alexander Rabbat   08/21346  International Affairs  2.8\n",
       "Carlos Goes        06/99209              Economics    4\n",
       "Dani Alaino        07/20345  International Affairs  3.4\n",
       "Lya Nikate         09/23567  International Affairs  3.3\n",
       "Nicolas Powidayko  10/22290              Economics  3.8\n",
       "Niz Borroz         11/22035  International Affairs    2\n",
       "Tom Rundal         98/20145              Economics    3"
      ]
     },
     "execution_count": 154,
     "metadata": {},
     "output_type": "execute_result"
    }
   ],
   "source": [
    "df['gpa'] /= 2\n",
    "df"
   ]
  },
  {
   "cell_type": "code",
   "execution_count": 155,
   "metadata": {
    "collapsed": false
   },
   "outputs": [
    {
     "data": {
      "text/plain": [
       "3.185714285714286"
      ]
     },
     "execution_count": 155,
     "metadata": {},
     "output_type": "execute_result"
    }
   ],
   "source": [
    "np.sum(df['gpa'])/len(df['gpa'])"
   ]
  },
  {
   "cell_type": "code",
   "execution_count": 156,
   "metadata": {
    "collapsed": false
   },
   "outputs": [
    {
     "data": {
      "text/plain": [
       "3.1857142857142859"
      ]
     },
     "execution_count": 156,
     "metadata": {},
     "output_type": "execute_result"
    }
   ],
   "source": [
    "np.mean(df['gpa'])"
   ]
  },
  {
   "cell_type": "code",
   "execution_count": 157,
   "metadata": {
    "collapsed": false,
    "scrolled": true
   },
   "outputs": [
    {
     "name": "stdout",
     "output_type": "stream",
     "text": [
      "100000000 loops, best of 3: 8.25 ns per loop\n",
      "Mean GPA, International Affairs: 2.875\n",
      "Mean GPA, Economics: 3.6\n"
     ]
    }
   ],
   "source": [
    "%timeit 10\n",
    "\n",
    "# Iterable\n",
    "\n",
    "for name in df['major'].unique():\n",
    "    avg = np.mean(df['gpa'][df['major'] == name])\n",
    "    print('Mean GPA, ' + name + ': ' + str(avg))"
   ]
  },
  {
   "cell_type": "code",
   "execution_count": 158,
   "metadata": {
    "collapsed": false
   },
   "outputs": [
    {
     "name": "stdout",
     "output_type": "stream",
     "text": [
      "100000000 loops, best of 3: 7.15 ns per loop\n",
      "Mean GPA, Economics: 3.6\n",
      "Mean GPA, International Affairs: 2.875\n"
     ]
    }
   ],
   "source": [
    "%timeit 10\n",
    "\n",
    "# Using groups by\n",
    "\n",
    "for name, table in df.groupby('major'):\n",
    "    avg = np.mean(table['gpa'])\n",
    "    print('Mean GPA, ' + name + ': ' + str(avg))"
   ]
  },
  {
   "cell_type": "code",
   "execution_count": 172,
   "metadata": {
    "collapsed": false
   },
   "outputs": [
    {
     "data": {
      "text/html": [
       "<div>\n",
       "<table border=\"1\" class=\"dataframe\">\n",
       "  <thead>\n",
       "    <tr style=\"text-align: right;\">\n",
       "      <th></th>\n",
       "      <th>max</th>\n",
       "      <th>min</th>\n",
       "      <th>count</th>\n",
       "      <th>sum</th>\n",
       "      <th>mean</th>\n",
       "    </tr>\n",
       "    <tr>\n",
       "      <th>major</th>\n",
       "      <th></th>\n",
       "      <th></th>\n",
       "      <th></th>\n",
       "      <th></th>\n",
       "      <th></th>\n",
       "    </tr>\n",
       "  </thead>\n",
       "  <tbody>\n",
       "    <tr>\n",
       "      <th>Economics</th>\n",
       "      <td>4.0</td>\n",
       "      <td>3.0</td>\n",
       "      <td>3</td>\n",
       "      <td>10.8</td>\n",
       "      <td>3.600</td>\n",
       "    </tr>\n",
       "    <tr>\n",
       "      <th>International Affairs</th>\n",
       "      <td>3.4</td>\n",
       "      <td>2.0</td>\n",
       "      <td>4</td>\n",
       "      <td>11.5</td>\n",
       "      <td>2.875</td>\n",
       "    </tr>\n",
       "  </tbody>\n",
       "</table>\n",
       "</div>"
      ],
      "text/plain": [
       "                       max  min  count   sum   mean\n",
       "major                                              \n",
       "Economics              4.0  3.0      3  10.8  3.600\n",
       "International Affairs  3.4  2.0      4  11.5  2.875"
      ]
     },
     "execution_count": 172,
     "metadata": {},
     "output_type": "execute_result"
    }
   ],
   "source": [
    "maxmin = (df.groupby('major')['gpa']\n",
    "            .agg({'max': 'max',\n",
    "                  'min': 'min',\n",
    "                  'count': 'count',\n",
    "                  'sum': 'sum',\n",
    "                 }))\n",
    "\n",
    "maxmin['mean'] = maxmin['sum'] / maxmin['count'] \n",
    "\n",
    "maxmin"
   ]
  }
 ],
 "metadata": {
  "kernelspec": {
   "display_name": "Python 3",
   "language": "python",
   "name": "python3"
  },
  "language_info": {
   "codemirror_mode": {
    "name": "ipython",
    "version": 3
   },
   "file_extension": ".py",
   "mimetype": "text/x-python",
   "name": "python",
   "nbconvert_exporter": "python",
   "pygments_lexer": "ipython3",
   "version": "3.6.0"
  }
 },
 "nbformat": 4,
 "nbformat_minor": 2
}
