{
 "cells": [
  {
   "cell_type": "code",
   "execution_count": 14,
   "metadata": {
    "collapsed": true
   },
   "outputs": [],
   "source": [
    "#Importar bibliotecas\n",
    "\n",
    "import numpy as np\n",
    "from scipy import stats"
   ]
  },
  {
   "cell_type": "code",
   "execution_count": 15,
   "metadata": {
    "collapsed": true
   },
   "outputs": [],
   "source": [
    "# Definir função para gerar números aleatórios\n",
    "\n",
    "aleatorio = lambda media, desvio_padrao, n_obs: np.random.normal(media, desvio_padrao, n_obs)"
   ]
  },
  {
   "cell_type": "code",
   "execution_count": 16,
   "metadata": {
    "collapsed": true
   },
   "outputs": [],
   "source": [
    "# Definir função de cálculo de erros padrão\n",
    "\n",
    "def erro_padrao(amostra):\n",
    "    amostra = amostra[~np.isnan(amostra)]\n",
    "\n",
    "    numerador = np.std(amostra, ddof=1)\n",
    "    denominador = np.sqrt(len(amostra))\n",
    "    \n",
    "    return numerador / denominador"
   ]
  },
  {
   "cell_type": "code",
   "execution_count": 17,
   "metadata": {
    "collapsed": false
   },
   "outputs": [
    {
     "name": "stdout",
     "output_type": "stream",
     "text": [
      "n_obs: 10; erro padrão: 3.54\n",
      "n_obs: 100; erro padrão: 1.10\n",
      "n_obs: 1000; erro padrão: 0.31\n",
      "n_obs: 10000; erro padrão: 0.10\n"
     ]
    }
   ],
   "source": [
    "# Calcular erro padrão com amostras de diferentes tamanhos\n",
    "\n",
    "media = 0\n",
    "desvio_padrao = 10\n",
    "\n",
    "for i in [10, 100, 1000, 10000]:\n",
    "    ep = erro_padrao(aleatorio(media, desvio_padrao, n_obs=i))\n",
    "    print(\"n_obs: {}; erro padrão: {:.2f}\".format(i, ep))    "
   ]
  },
  {
   "cell_type": "code",
   "execution_count": 18,
   "metadata": {
    "collapsed": true
   },
   "outputs": [],
   "source": [
    "# Definir função que calcular estatística-t\n",
    "\n",
    "def t_stat_media(amostra, valor_corte):\n",
    "    media = np.mean(amostra)\n",
    "    numerador = (media - valor_corte)\n",
    "    denominador = erro_padrao(amostra)  \n",
    "    t_stat = numerador / denominador\n",
    "\n",
    "    return t_stat, media"
   ]
  },
  {
   "cell_type": "code",
   "execution_count": 19,
   "metadata": {
    "collapsed": false
   },
   "outputs": [
    {
     "name": "stdout",
     "output_type": "stream",
     "text": [
      "Média: 2.92; valor de corte: 0.00; estatística-t: 0.94\n",
      "Média: 2.92; valor de corte: 1.00; estatística-t: 0.62\n",
      "Média: 2.92; valor de corte: 2.00; estatística-t: 0.30\n",
      "Média: 2.92; valor de corte: 3.00; estatística-t: -0.03\n",
      "Média: 2.92; valor de corte: 4.00; estatística-t: -0.35\n",
      "Média: 2.92; valor de corte: 5.00; estatística-t: -0.67\n",
      "Média: 2.92; valor de corte: 6.00; estatística-t: -1.00\n",
      "Média: 2.92; valor de corte: 7.00; estatística-t: -1.32\n",
      "Média: 2.92; valor de corte: 8.00; estatística-t: -1.64\n",
      "Média: 2.92; valor de corte: 9.00; estatística-t: -1.97\n",
      "Média: 2.92; valor de corte: 10.00; estatística-t: -2.29\n",
      "Média: 2.92; valor de corte: 11.00; estatística-t: -2.61\n",
      "Média: 2.92; valor de corte: 12.00; estatística-t: -2.94\n",
      "Média: 2.92; valor de corte: 13.00; estatística-t: -3.26\n",
      "Média: 2.92; valor de corte: 14.00; estatística-t: -3.59\n",
      "Média: 2.92; valor de corte: 15.00; estatística-t: -3.91\n",
      "Média: 2.92; valor de corte: 16.00; estatística-t: -4.23\n",
      "Média: 2.92; valor de corte: 17.00; estatística-t: -4.56\n",
      "Média: 2.92; valor de corte: 18.00; estatística-t: -4.88\n",
      "Média: 2.92; valor de corte: 19.00; estatística-t: -5.20\n",
      "Média: 2.92; valor de corte: 20.00; estatística-t: -5.53\n",
      "Média: 2.92; valor de corte: 21.00; estatística-t: -5.85\n",
      "Média: 2.92; valor de corte: 22.00; estatística-t: -6.17\n",
      "Média: 2.92; valor de corte: 23.00; estatística-t: -6.50\n",
      "Média: 2.92; valor de corte: 24.00; estatística-t: -6.82\n",
      "Média: 2.92; valor de corte: 25.00; estatística-t: -7.15\n"
     ]
    }
   ],
   "source": [
    "# Calcular estatística-t a diferentes valores de corte\n",
    "\n",
    "x = aleatorio(0, 100, 1000)\n",
    "\n",
    "for i in np.linspace(0,25,26):\n",
    "    est_t, media = t_stat_media(x, i)\n",
    "    print(\"Média: {:.2f}; valor de corte: {:.2f}; estatística-t: {:.2f}\"\n",
    "          .format(media, i, est_t))"
   ]
  },
  {
   "cell_type": "code",
   "execution_count": 20,
   "metadata": {
    "collapsed": true
   },
   "outputs": [],
   "source": [
    "# Definir função que calcular p_valor\n",
    "\n",
    "def p_valor(amostra, valor_corte):\n",
    "    amostra = amostra[~np.isnan(amostra)]\n",
    "  \n",
    "    t_stat, media = t_stat_media(amostra, valor_corte)\n",
    "    \n",
    "    # Calcular p-value\n",
    "    tt_stat = -1 * np.abs(t_stat)\n",
    "    p_value = 2 * stats.t.cdf(tt_stat, df=(len(amostra)-1) )\n",
    "    \n",
    "    return t_stat, media, p_value"
   ]
  },
  {
   "cell_type": "code",
   "execution_count": 21,
   "metadata": {
    "collapsed": false
   },
   "outputs": [
    {
     "name": "stdout",
     "output_type": "stream",
     "text": [
      "Média: 2.92; valor de corte: 0.00; estatística-t: 0.94; p-valor: 0.3450\n",
      "Média: 2.92; valor de corte: 1.00; estatística-t: 0.62; p-valor: 0.5346\n",
      "Média: 2.92; valor de corte: 2.00; estatística-t: 0.30; p-valor: 0.7661\n",
      "Média: 2.92; valor de corte: 3.00; estatística-t: -0.03; p-valor: 0.9793\n",
      "Média: 2.92; valor de corte: 4.00; estatística-t: -0.35; p-valor: 0.7267\n",
      "Média: 2.92; valor de corte: 5.00; estatística-t: -0.67; p-valor: 0.5010\n",
      "Média: 2.92; valor de corte: 6.00; estatística-t: -1.00; p-valor: 0.3191\n",
      "Média: 2.92; valor de corte: 7.00; estatística-t: -1.32; p-valor: 0.1870\n",
      "Média: 2.92; valor de corte: 8.00; estatística-t: -1.64; p-valor: 0.1005\n",
      "Média: 2.92; valor de corte: 9.00; estatística-t: -1.97; p-valor: 0.0494\n",
      "Média: 2.92; valor de corte: 10.00; estatística-t: -2.29; p-valor: 0.0222\n",
      "Média: 2.92; valor de corte: 11.00; estatística-t: -2.61; p-valor: 0.0091\n",
      "Média: 2.92; valor de corte: 12.00; estatística-t: -2.94; p-valor: 0.0034\n",
      "Média: 2.92; valor de corte: 13.00; estatística-t: -3.26; p-valor: 0.0011\n",
      "Média: 2.92; valor de corte: 14.00; estatística-t: -3.59; p-valor: 0.0004\n",
      "Média: 2.92; valor de corte: 15.00; estatística-t: -3.91; p-valor: 0.0001\n",
      "Média: 2.92; valor de corte: 16.00; estatística-t: -4.23; p-valor: 0.0000\n",
      "Média: 2.92; valor de corte: 17.00; estatística-t: -4.56; p-valor: 0.0000\n",
      "Média: 2.92; valor de corte: 18.00; estatística-t: -4.88; p-valor: 0.0000\n",
      "Média: 2.92; valor de corte: 19.00; estatística-t: -5.20; p-valor: 0.0000\n",
      "Média: 2.92; valor de corte: 20.00; estatística-t: -5.53; p-valor: 0.0000\n",
      "Média: 2.92; valor de corte: 21.00; estatística-t: -5.85; p-valor: 0.0000\n",
      "Média: 2.92; valor de corte: 22.00; estatística-t: -6.17; p-valor: 0.0000\n",
      "Média: 2.92; valor de corte: 23.00; estatística-t: -6.50; p-valor: 0.0000\n",
      "Média: 2.92; valor de corte: 24.00; estatística-t: -6.82; p-valor: 0.0000\n",
      "Média: 2.92; valor de corte: 25.00; estatística-t: -7.15; p-valor: 0.0000\n"
     ]
    }
   ],
   "source": [
    "# Calcular p-valor a diferentes valores de corte\n",
    "\n",
    "for i in np.linspace(0,25,26):\n",
    "    est_t, media, p_val = p_valor(x, i)\n",
    "    print(\"Média: {:.2f}; valor de corte: {:.2f}; estatística-t: {:.2f}; p-valor: {:.4f}\"\n",
    "          .format(media, i, est_t, p_val))"
   ]
  },
  {
   "cell_type": "code",
   "execution_count": null,
   "metadata": {
    "collapsed": true
   },
   "outputs": [],
   "source": []
  }
 ],
 "metadata": {
  "kernelspec": {
   "display_name": "Python 3",
   "language": "python",
   "name": "python3"
  },
  "language_info": {
   "codemirror_mode": {
    "name": "ipython",
    "version": 3
   },
   "file_extension": ".py",
   "mimetype": "text/x-python",
   "name": "python",
   "nbconvert_exporter": "python",
   "pygments_lexer": "ipython3",
   "version": "3.6.0"
  }
 },
 "nbformat": 4,
 "nbformat_minor": 2
}
