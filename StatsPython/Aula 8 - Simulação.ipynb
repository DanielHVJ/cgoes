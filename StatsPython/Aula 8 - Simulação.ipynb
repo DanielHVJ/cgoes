{
 "cells": [
  {
   "cell_type": "code",
   "execution_count": 32,
   "metadata": {
    "collapsed": true
   },
   "outputs": [],
   "source": [
    "#Importar bibliotecas\n",
    "\n",
    "import numpy as np\n",
    "from scipy import stats"
   ]
  },
  {
   "cell_type": "code",
   "execution_count": 33,
   "metadata": {
    "collapsed": true
   },
   "outputs": [],
   "source": [
    "# Definir função para gerar números aleatórios\n",
    "\n",
    "aleatorio = lambda media, desvio_padrao, n_obs: np.random.normal(media, desvio_padrao, n_obs)"
   ]
  },
  {
   "cell_type": "code",
   "execution_count": 34,
   "metadata": {
    "collapsed": true
   },
   "outputs": [],
   "source": [
    "# Definir função de cálculo de erros padrão\n",
    "\n",
    "def erro_padrao(amostra):\n",
    "    amostra = amostra[~np.isnan(amostra)]\n",
    "\n",
    "    numerador = np.std(amostra, ddof=1)\n",
    "    denominador = np.sqrt(len(amostra))\n",
    "    \n",
    "    return numerador / denominador"
   ]
  },
  {
   "cell_type": "code",
   "execution_count": 35,
   "metadata": {
    "collapsed": false
   },
   "outputs": [
    {
     "name": "stdout",
     "output_type": "stream",
     "text": [
      "n_obs: 10; erro padrão: 3.30\n",
      "n_obs: 100; erro padrão: 0.90\n",
      "n_obs: 1000; erro padrão: 0.31\n",
      "n_obs: 10000; erro padrão: 0.10\n"
     ]
    }
   ],
   "source": [
    "# Calcular erro padrão com amostras de diferentes tamanhos\n",
    "\n",
    "media = 0\n",
    "desvio_padrao = 10\n",
    "\n",
    "for i in [10, 100, 1000, 10000]:\n",
    "    ep = erro_padrao(aleatorio(media, desvio_padrao, n_obs=i))\n",
    "    print(\"n_obs: {}; erro padrão: {:.2f}\".format(i, ep))    "
   ]
  },
  {
   "cell_type": "code",
   "execution_count": 36,
   "metadata": {
    "collapsed": true
   },
   "outputs": [],
   "source": [
    "# Definir função que calcular estatística-t\n",
    "\n",
    "def t_stat_media(amostra, valor_corte):\n",
    "    media = np.mean(amostra)\n",
    "    numerador = (media - valor_corte)\n",
    "    denominador = erro_padrao(amostra)  \n",
    "    t_stat = numerador / denominador\n",
    "\n",
    "    return t_stat, media"
   ]
  },
  {
   "cell_type": "code",
   "execution_count": 37,
   "metadata": {
    "collapsed": false
   },
   "outputs": [
    {
     "name": "stdout",
     "output_type": "stream",
     "text": [
      "Média: 1.57; valor de corte: 0.00; estatística-t: 0.51\n",
      "Média: 1.57; valor de corte: 1.00; estatística-t: 0.18\n",
      "Média: 1.57; valor de corte: 2.00; estatística-t: -0.14\n",
      "Média: 1.57; valor de corte: 3.00; estatística-t: -0.47\n",
      "Média: 1.57; valor de corte: 4.00; estatística-t: -0.79\n",
      "Média: 1.57; valor de corte: 5.00; estatística-t: -1.12\n",
      "Média: 1.57; valor de corte: 6.00; estatística-t: -1.44\n",
      "Média: 1.57; valor de corte: 7.00; estatística-t: -1.77\n",
      "Média: 1.57; valor de corte: 8.00; estatística-t: -2.10\n",
      "Média: 1.57; valor de corte: 9.00; estatística-t: -2.42\n",
      "Média: 1.57; valor de corte: 10.00; estatística-t: -2.75\n",
      "Média: 1.57; valor de corte: 11.00; estatística-t: -3.07\n",
      "Média: 1.57; valor de corte: 12.00; estatística-t: -3.40\n",
      "Média: 1.57; valor de corte: 13.00; estatística-t: -3.72\n",
      "Média: 1.57; valor de corte: 14.00; estatística-t: -4.05\n",
      "Média: 1.57; valor de corte: 15.00; estatística-t: -4.38\n",
      "Média: 1.57; valor de corte: 16.00; estatística-t: -4.70\n",
      "Média: 1.57; valor de corte: 17.00; estatística-t: -5.03\n",
      "Média: 1.57; valor de corte: 18.00; estatística-t: -5.35\n",
      "Média: 1.57; valor de corte: 19.00; estatística-t: -5.68\n",
      "Média: 1.57; valor de corte: 20.00; estatística-t: -6.00\n",
      "Média: 1.57; valor de corte: 21.00; estatística-t: -6.33\n",
      "Média: 1.57; valor de corte: 22.00; estatística-t: -6.66\n",
      "Média: 1.57; valor de corte: 23.00; estatística-t: -6.98\n",
      "Média: 1.57; valor de corte: 24.00; estatística-t: -7.31\n",
      "Média: 1.57; valor de corte: 25.00; estatística-t: -7.63\n"
     ]
    }
   ],
   "source": [
    "# Calcular estatística-t a diferentes valores de corte\n",
    "\n",
    "x = aleatorio(0, 100, 1000)\n",
    "\n",
    "for i in np.linspace(0,25,26):\n",
    "    est_t, media = t_stat_media(x, i)\n",
    "    print(\"Média: {:.2f}; valor de corte: {:.2f}; estatística-t: {:.2f}\"\n",
    "          .format(media, i, est_t))"
   ]
  },
  {
   "cell_type": "code",
   "execution_count": 38,
   "metadata": {
    "collapsed": true
   },
   "outputs": [],
   "source": [
    "# Definir função que calcular p_valor\n",
    "\n",
    "def p_valor(amostra, valor_corte):\n",
    "    amostra = amostra[~np.isnan(amostra)]\n",
    "  \n",
    "    t_stat, media = t_stat_media(amostra, valor_corte)\n",
    "    \n",
    "    # Calcular p-value\n",
    "    tt_stat = -1 * np.abs(t_stat)\n",
    "    p_value = 2 * stats.t.cdf(tt_stat, df=(len(amostra)-1) )\n",
    "    \n",
    "    return t_stat, media, p_value"
   ]
  },
  {
   "cell_type": "code",
   "execution_count": 39,
   "metadata": {
    "collapsed": false
   },
   "outputs": [
    {
     "name": "stdout",
     "output_type": "stream",
     "text": [
      "Média: 1.57; valor de corte: 0.00; estatística-t: 0.51; p-valor: 0.6096\n",
      "Média: 1.57; valor de corte: 1.00; estatística-t: 0.18; p-valor: 0.8533\n",
      "Média: 1.57; valor de corte: 2.00; estatística-t: -0.14; p-valor: 0.8881\n",
      "Média: 1.57; valor de corte: 3.00; estatística-t: -0.47; p-valor: 0.6410\n",
      "Média: 1.57; valor de corte: 4.00; estatística-t: -0.79; p-valor: 0.4284\n",
      "Média: 1.57; valor de corte: 5.00; estatística-t: -1.12; p-valor: 0.2638\n",
      "Média: 1.57; valor de corte: 6.00; estatística-t: -1.44; p-valor: 0.1491\n",
      "Média: 1.57; valor de corte: 7.00; estatística-t: -1.77; p-valor: 0.0771\n",
      "Média: 1.57; valor de corte: 8.00; estatística-t: -2.10; p-valor: 0.0364\n",
      "Média: 1.57; valor de corte: 9.00; estatística-t: -2.42; p-valor: 0.0157\n",
      "Média: 1.57; valor de corte: 10.00; estatística-t: -2.75; p-valor: 0.0061\n",
      "Média: 1.57; valor de corte: 11.00; estatística-t: -3.07; p-valor: 0.0022\n",
      "Média: 1.57; valor de corte: 12.00; estatística-t: -3.40; p-valor: 0.0007\n",
      "Média: 1.57; valor de corte: 13.00; estatística-t: -3.72; p-valor: 0.0002\n",
      "Média: 1.57; valor de corte: 14.00; estatística-t: -4.05; p-valor: 0.0001\n",
      "Média: 1.57; valor de corte: 15.00; estatística-t: -4.38; p-valor: 0.0000\n",
      "Média: 1.57; valor de corte: 16.00; estatística-t: -4.70; p-valor: 0.0000\n",
      "Média: 1.57; valor de corte: 17.00; estatística-t: -5.03; p-valor: 0.0000\n",
      "Média: 1.57; valor de corte: 18.00; estatística-t: -5.35; p-valor: 0.0000\n",
      "Média: 1.57; valor de corte: 19.00; estatística-t: -5.68; p-valor: 0.0000\n",
      "Média: 1.57; valor de corte: 20.00; estatística-t: -6.00; p-valor: 0.0000\n",
      "Média: 1.57; valor de corte: 21.00; estatística-t: -6.33; p-valor: 0.0000\n",
      "Média: 1.57; valor de corte: 22.00; estatística-t: -6.66; p-valor: 0.0000\n",
      "Média: 1.57; valor de corte: 23.00; estatística-t: -6.98; p-valor: 0.0000\n",
      "Média: 1.57; valor de corte: 24.00; estatística-t: -7.31; p-valor: 0.0000\n",
      "Média: 1.57; valor de corte: 25.00; estatística-t: -7.63; p-valor: 0.0000\n"
     ]
    }
   ],
   "source": [
    "# Calcular p-valor a diferentes valores de corte\n",
    "\n",
    "for i in np.linspace(0,25,26):\n",
    "    est_t, media, p_val = p_valor(x, i)\n",
    "    print(\"Média: {:.2f}; valor de corte: {:.2f}; estatística-t: {:.2f}; p-valor: {:.4f}\"\n",
    "          .format(media, i, est_t, p_val))"
   ]
  },
  {
   "cell_type": "code",
   "execution_count": 40,
   "metadata": {
    "collapsed": false
   },
   "outputs": [
    {
     "name": "stdout",
     "output_type": "stream",
     "text": [
      "Média: 1.57; valor de corte: 0.00; estatística-t: 0.51; p-valor: 0.6096\n",
      "Média: 1.57; valor de corte: 1.00; estatística-t: 0.18; p-valor: 0.8533\n",
      "Média: 1.57; valor de corte: 2.00; estatística-t: -0.14; p-valor: 0.8881\n",
      "Média: 1.57; valor de corte: 3.00; estatística-t: -0.47; p-valor: 0.6410\n",
      "Média: 1.57; valor de corte: 4.00; estatística-t: -0.79; p-valor: 0.4284\n",
      "Média: 1.57; valor de corte: 5.00; estatística-t: -1.12; p-valor: 0.2638\n",
      "Média: 1.57; valor de corte: 6.00; estatística-t: -1.44; p-valor: 0.1491\n",
      "Média: 1.57; valor de corte: 7.00; estatística-t: -1.77; p-valor: 0.0771\n",
      "Média: 1.57; valor de corte: 8.00; estatística-t: -2.10; p-valor: 0.0364\n",
      "Média: 1.57; valor de corte: 9.00; estatística-t: -2.42; p-valor: 0.0157\n",
      "Média: 1.57; valor de corte: 10.00; estatística-t: -2.75; p-valor: 0.0061\n",
      "Média: 1.57; valor de corte: 11.00; estatística-t: -3.07; p-valor: 0.0022\n",
      "Média: 1.57; valor de corte: 12.00; estatística-t: -3.40; p-valor: 0.0007\n",
      "Média: 1.57; valor de corte: 13.00; estatística-t: -3.72; p-valor: 0.0002\n",
      "Média: 1.57; valor de corte: 14.00; estatística-t: -4.05; p-valor: 0.0001\n",
      "Média: 1.57; valor de corte: 15.00; estatística-t: -4.38; p-valor: 0.0000\n",
      "Média: 1.57; valor de corte: 16.00; estatística-t: -4.70; p-valor: 0.0000\n",
      "Média: 1.57; valor de corte: 17.00; estatística-t: -5.03; p-valor: 0.0000\n",
      "Média: 1.57; valor de corte: 18.00; estatística-t: -5.35; p-valor: 0.0000\n",
      "Média: 1.57; valor de corte: 19.00; estatística-t: -5.68; p-valor: 0.0000\n",
      "Média: 1.57; valor de corte: 20.00; estatística-t: -6.00; p-valor: 0.0000\n",
      "Média: 1.57; valor de corte: 21.00; estatística-t: -6.33; p-valor: 0.0000\n",
      "Média: 1.57; valor de corte: 22.00; estatística-t: -6.66; p-valor: 0.0000\n",
      "Média: 1.57; valor de corte: 23.00; estatística-t: -6.98; p-valor: 0.0000\n",
      "Média: 1.57; valor de corte: 24.00; estatística-t: -7.31; p-valor: 0.0000\n",
      "Média: 1.57; valor de corte: 25.00; estatística-t: -7.63; p-valor: 0.0000\n"
     ]
    }
   ],
   "source": [
    "# Ou, simplesmente, utilizar o scipy\n",
    "\n",
    "media = np.mean(x)\n",
    "\n",
    "for i in np.linspace(0,25,26):\n",
    "    est_t, p_val = stats.ttest_1samp(x, i)\n",
    "    print(\"Média: {:.2f}; valor de corte: {:.2f}; estatística-t: {:.2f}; p-valor: {:.4f}\"\n",
    "          .format(media, i, est_t, p_val))"
   ]
  },
  {
   "cell_type": "code",
   "execution_count": null,
   "metadata": {
    "collapsed": true
   },
   "outputs": [],
   "source": []
  }
 ],
 "metadata": {
  "kernelspec": {
   "display_name": "Python 3",
   "language": "python",
   "name": "python3"
  },
  "language_info": {
   "codemirror_mode": {
    "name": "ipython",
    "version": 3
   },
   "file_extension": ".py",
   "mimetype": "text/x-python",
   "name": "python",
   "nbconvert_exporter": "python",
   "pygments_lexer": "ipython3",
   "version": "3.6.0"
  }
 },
 "nbformat": 4,
 "nbformat_minor": 2
}
